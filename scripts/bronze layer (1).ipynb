{
 "cells": [
  {
   "cell_type": "markdown",
   "metadata": {
    "application/vnd.databricks.v1+cell": {
     "cellMetadata": {
      "byteLimit": 2048000,
      "rowLimit": 10000
     },
     "inputWidgets": {},
     "nuid": "d951fb87-9afb-444a-8e39-96d7c0bea6a9",
     "showTitle": false,
     "tableResultSettingsMap": {},
     "title": ""
    }
   },
   "source": [
    "# 🥉 Bronze Layer - Data Ingestion (Raw Layer)\n",
    "\n",
    "The **Bronze Layer** is the raw data ingestion layer in the Medallion Architecture. In this layer, data is ingested as-is from the source CSV files into Delta tables with minimal or no transformation. Below is the implementation for the Bronze Layer using Databricks and Apache Spark.\n",
    "\n",
    "---"
   ]
  },
  {
   "cell_type": "markdown",
   "metadata": {
    "application/vnd.databricks.v1+cell": {
     "cellMetadata": {
      "byteLimit": 2048000,
      "rowLimit": 10000
     },
     "inputWidgets": {},
     "nuid": "6a4ca12c-7b0a-4972-8d78-91fce9bc6de5",
     "showTitle": false,
     "tableResultSettingsMap": {},
     "title": ""
    }
   },
   "source": [
    "## 📁 Step 1: Create the Bronze Database"
   ]
  },
  {
   "cell_type": "code",
   "execution_count": 0,
   "metadata": {
    "application/vnd.databricks.v1+cell": {
     "cellMetadata": {
      "byteLimit": 2048000,
      "implicitDf": true,
      "rowLimit": 10000
     },
     "inputWidgets": {},
     "nuid": "b604ea9d-ae71-4f84-bfe9-447191d29a02",
     "showTitle": false,
     "tableResultSettingsMap": {},
     "title": ""
    }
   },
   "outputs": [
    {
     "output_type": "display_data",
     "data": {
      "text/html": [
       "<style scoped>\n",
       "  .table-result-container {\n",
       "    max-height: 300px;\n",
       "    overflow: auto;\n",
       "  }\n",
       "  table, th, td {\n",
       "    border: 1px solid black;\n",
       "    border-collapse: collapse;\n",
       "  }\n",
       "  th, td {\n",
       "    padding: 5px;\n",
       "  }\n",
       "  th {\n",
       "    text-align: left;\n",
       "  }\n",
       "</style><div class='table-result-container'><table class='table-result'><thead style='background-color: white'><tr></tr></thead><tbody></tbody></table></div>"
      ]
     },
     "metadata": {
      "application/vnd.databricks.v1+output": {
       "addedWidgets": {},
       "aggData": [],
       "aggError": "",
       "aggOverflow": false,
       "aggSchema": [],
       "aggSeriesLimitReached": false,
       "aggType": "",
       "arguments": {},
       "columnCustomDisplayInfos": {},
       "data": [],
       "datasetInfos": [],
       "dbfsResultPath": null,
       "isJsonSchema": true,
       "metadata": {},
       "overflow": false,
       "plotOptions": {
        "customPlotOptions": {},
        "displayType": "table",
        "pivotAggregation": null,
        "pivotColumns": null,
        "xColumns": null,
        "yColumns": null
       },
       "removedWidgets": [],
       "schema": [],
       "type": "table"
      }
     },
     "output_type": "display_data"
    }
   ],
   "source": [
    "%sql\n",
    "CREATE DATABASE IF NOT EXISTS bronze;"
   ]
  },
  {
   "cell_type": "markdown",
   "metadata": {
    "application/vnd.databricks.v1+cell": {
     "cellMetadata": {
      "byteLimit": 2048000,
      "rowLimit": 10000
     },
     "inputWidgets": {},
     "nuid": "0887fb52-f1e3-46e6-9570-f2610de6e0f0",
     "showTitle": false,
     "tableResultSettingsMap": {},
     "title": ""
    }
   },
   "source": [
    "## 📥 Step 2: Ingest Raw CSV Files into Delta Tables\n",
    "\n",
    "Each dataset is read from DBFS (Databricks File System) and written to Delta Lake format into the `bronze` schema."
   ]
  },
  {
   "cell_type": "markdown",
   "metadata": {
    "application/vnd.databricks.v1+cell": {
     "cellMetadata": {
      "byteLimit": 2048000,
      "rowLimit": 10000
     },
     "inputWidgets": {},
     "nuid": "dadb5d9f-8c68-4945-84d7-24450913d472",
     "showTitle": false,
     "tableResultSettingsMap": {},
     "title": ""
    }
   },
   "source": [
    "### 🏃‍♂️ Athletes"
   ]
  },
  {
   "cell_type": "code",
   "execution_count": 0,
   "metadata": {
    "application/vnd.databricks.v1+cell": {
     "cellMetadata": {
      "byteLimit": 2048000,
      "rowLimit": 10000
     },
     "inputWidgets": {},
     "nuid": "2b876038-1e88-499e-a249-97cfb41dcba1",
     "showTitle": false,
     "tableResultSettingsMap": {},
     "title": ""
    }
   },
   "outputs": [],
   "source": [
    "df_athletes = spark.read\\\n",
    "                    .format(\"csv\")\\\n",
    "                    .option(\"inferschema\",\"true\")\\\n",
    "                    .option(\"header\",\"true\")\\\n",
    "                    .load(\"dbfs:/FileStore/tokyo_project_data1/Athletes.csv\")\n",
    "\n",
    "df_athletes.write.format(\"delta\").mode(\"overwrite\").saveAsTable(\"bronze.athletes\")"
   ]
  },
  {
   "cell_type": "markdown",
   "metadata": {
    "application/vnd.databricks.v1+cell": {
     "cellMetadata": {
      "byteLimit": 2048000,
      "rowLimit": 10000
     },
     "inputWidgets": {},
     "nuid": "6adc56c3-def7-4c91-9abe-2c48f344e94b",
     "showTitle": false,
     "tableResultSettingsMap": {},
     "title": ""
    }
   },
   "source": [
    "### 🧢 Coaches"
   ]
  },
  {
   "cell_type": "code",
   "execution_count": 0,
   "metadata": {
    "application/vnd.databricks.v1+cell": {
     "cellMetadata": {
      "byteLimit": 2048000,
      "rowLimit": 10000
     },
     "inputWidgets": {},
     "nuid": "dd95a3b1-4b0b-436b-bf6c-e51170dd3ea4",
     "showTitle": false,
     "tableResultSettingsMap": {},
     "title": ""
    }
   },
   "outputs": [],
   "source": [
    "df_coaches = spark.read\\\n",
    "                    .format(\"csv\")\\\n",
    "                    .option(\"inferschema\",\"true\")\\\n",
    "                    .option(\"header\",\"true\")\\\n",
    "                    .load(\"dbfs:/FileStore/tokyo_project_data1/Coaches.csv\")\n",
    "\n",
    "df_coaches.write.format(\"delta\").mode(\"overwrite\").saveAsTable(\"bronze.coaches\")"
   ]
  },
  {
   "cell_type": "markdown",
   "metadata": {
    "application/vnd.databricks.v1+cell": {
     "cellMetadata": {
      "byteLimit": 2048000,
      "rowLimit": 10000
     },
     "inputWidgets": {},
     "nuid": "853c030f-a07f-4b30-90f6-e4e43de68098",
     "showTitle": false,
     "tableResultSettingsMap": {},
     "title": ""
    }
   },
   "source": [
    "### 🚻 Entries Gender"
   ]
  },
  {
   "cell_type": "code",
   "execution_count": 0,
   "metadata": {
    "application/vnd.databricks.v1+cell": {
     "cellMetadata": {
      "byteLimit": 2048000,
      "rowLimit": 10000
     },
     "inputWidgets": {},
     "nuid": "2f3daac1-2e29-47d6-a2d6-b213184fed08",
     "showTitle": false,
     "tableResultSettingsMap": {},
     "title": ""
    }
   },
   "outputs": [],
   "source": [
    "df_entriesGender = spark.read\\\n",
    "                            .format(\"csv\")\\\n",
    "                            .option(\"inferschema\",\"true\")\\\n",
    "                            .option(\"header\",\"true\")\\\n",
    "                            .load(\"dbfs:/FileStore/tokyo_project_data1/EntriesGender.csv\")\n",
    "\n",
    "df_entriesGender.write.format(\"delta\").mode(\"overwrite\").saveAsTable(\"bronze.entriesGender\")"
   ]
  },
  {
   "cell_type": "markdown",
   "metadata": {
    "application/vnd.databricks.v1+cell": {
     "cellMetadata": {
      "byteLimit": 2048000,
      "rowLimit": 10000
     },
     "inputWidgets": {},
     "nuid": "fe328d02-36ae-427f-a4ad-ac0dc531a8b6",
     "showTitle": false,
     "tableResultSettingsMap": {},
     "title": ""
    }
   },
   "source": [
    "### 🏅 Medals"
   ]
  },
  {
   "cell_type": "code",
   "execution_count": 0,
   "metadata": {
    "application/vnd.databricks.v1+cell": {
     "cellMetadata": {
      "byteLimit": 2048000,
      "rowLimit": 10000
     },
     "inputWidgets": {},
     "nuid": "2ec43dd7-24bf-4439-ae6a-ba54aad5bcae",
     "showTitle": false,
     "tableResultSettingsMap": {},
     "title": ""
    }
   },
   "outputs": [],
   "source": [
    "from pyspark.sql.functions import col\n",
    "\n",
    "df_medals = spark.read\\\n",
    "                    .format(\"csv\")\\\n",
    "                    .option(\"inferschema\",\"true\")\\\n",
    "                    .option(\"header\",\"true\")\\\n",
    "                    .load(\"dbfs:/FileStore/tokyo_project_data1/Medals.csv\")\n",
    "\n",
    "df_medals = df_medals.toDF(*[c.strip().lower().replace(\" \", \"_\").replace(\"(\", \"\").replace(\")\", \"\") for c in df_medals.columns])\n",
    "\n",
    "df_medals.write.format(\"delta\").mode(\"overwrite\").saveAsTable(\"bronze.medals\")"
   ]
  },
  {
   "cell_type": "markdown",
   "metadata": {
    "application/vnd.databricks.v1+cell": {
     "cellMetadata": {
      "byteLimit": 2048000,
      "rowLimit": 10000
     },
     "inputWidgets": {},
     "nuid": "69813cea-a90e-40a0-98fd-8960ad063b40",
     "showTitle": false,
     "tableResultSettingsMap": {},
     "title": ""
    }
   },
   "source": [
    "### 👥 Teams"
   ]
  },
  {
   "cell_type": "code",
   "execution_count": 0,
   "metadata": {
    "application/vnd.databricks.v1+cell": {
     "cellMetadata": {
      "byteLimit": 2048000,
      "rowLimit": 10000
     },
     "inputWidgets": {},
     "nuid": "69f67976-a732-42b9-90d9-c88a948a917a",
     "showTitle": false,
     "tableResultSettingsMap": {},
     "title": ""
    }
   },
   "outputs": [],
   "source": [
    "df_teams = spark.read\\\n",
    "                    .format(\"csv\")\\\n",
    "                    .option(\"inferschema\",\"true\")\\\n",
    "                    .option(\"header\",\"true\")\\\n",
    "                    .load(\"dbfs:/FileStore/tokyo_project_data1/Teams.csv\")\n",
    "\n",
    "df_teams.write.format(\"delta\").mode(\"overwrite\").saveAsTable(\"bronze.teams\")"
   ]
  },
  {
   "cell_type": "markdown",
   "metadata": {
    "application/vnd.databricks.v1+cell": {
     "cellMetadata": {
      "byteLimit": 2048000,
      "rowLimit": 10000
     },
     "inputWidgets": {},
     "nuid": "05092530-6b28-4ba4-a2ca-3561c629adcb",
     "showTitle": false,
     "tableResultSettingsMap": {},
     "title": ""
    }
   },
   "source": [
    "# ✅ Output\n",
    "\n",
    "All ingested tables are saved as Delta tables under the `bronze` schema. These raw tables will be used as input for further processing in the **Silver Layer** (Cleaned & Enriched Data)."
   ]
  }
 ],
 "metadata": {
  "application/vnd.databricks.v1+notebook": {
   "computePreferences": null,
   "dashboards": [],
   "environmentMetadata": {
    "base_environment": "",
    "environment_version": "1"
   },
   "inputWidgetPreferences": null,
   "language": "python",
   "notebookMetadata": {
    "mostRecentlyExecutedCommandWithImplicitDF": {
     "commandId": 3203223618085279,
     "dataframes": [
      "_sqldf"
     ]
    },
    "pythonIndentUnit": 4
   },
   "notebookName": "bronze layer",
   "widgets": {}
  }
 },
 "nbformat": 4,
 "nbformat_minor": 0
}