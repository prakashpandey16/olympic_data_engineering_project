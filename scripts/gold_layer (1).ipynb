{
 "cells": [
  {
   "cell_type": "code",
   "execution_count": 0,
   "metadata": {
    "application/vnd.databricks.v1+cell": {
     "cellMetadata": {
      "byteLimit": 2048000,
      "implicitDf": true,
      "rowLimit": 10000
     },
     "inputWidgets": {},
     "nuid": "b8470a14-18b5-40ba-8a29-eae8c11240b6",
     "showTitle": false,
     "tableResultSettingsMap": {},
     "title": ""
    }
   },
   "outputs": [
    {
     "output_type": "display_data",
     "data": {
      "text/html": [
       "<style scoped>\n",
       "  .table-result-container {\n",
       "    max-height: 300px;\n",
       "    overflow: auto;\n",
       "  }\n",
       "  table, th, td {\n",
       "    border: 1px solid black;\n",
       "    border-collapse: collapse;\n",
       "  }\n",
       "  th, td {\n",
       "    padding: 5px;\n",
       "  }\n",
       "  th {\n",
       "    text-align: left;\n",
       "  }\n",
       "</style><div class='table-result-container'><table class='table-result'><thead style='background-color: white'><tr></tr></thead><tbody></tbody></table></div>"
      ]
     },
     "metadata": {
      "application/vnd.databricks.v1+output": {
       "addedWidgets": {},
       "aggData": [],
       "aggError": "",
       "aggOverflow": false,
       "aggSchema": [],
       "aggSeriesLimitReached": false,
       "aggType": "",
       "arguments": {},
       "columnCustomDisplayInfos": {},
       "data": [],
       "datasetInfos": [],
       "dbfsResultPath": null,
       "isJsonSchema": true,
       "metadata": {},
       "overflow": false,
       "plotOptions": {
        "customPlotOptions": {},
        "displayType": "table",
        "pivotAggregation": null,
        "pivotColumns": null,
        "xColumns": null,
        "yColumns": null
       },
       "removedWidgets": [],
       "schema": [],
       "type": "table"
      }
     },
     "output_type": "display_data"
    }
   ],
   "source": [
    "%sql\n",
    "\n",
    "CREATE DATABASE IF NOT EXISTS gold;"
   ]
  },
  {
   "cell_type": "code",
   "execution_count": 0,
   "metadata": {
    "application/vnd.databricks.v1+cell": {
     "cellMetadata": {
      "byteLimit": 2048000,
      "rowLimit": 10000
     },
     "inputWidgets": {},
     "nuid": "e759c928-3d73-4cf0-881c-b9990dcb1479",
     "showTitle": false,
     "tableResultSettingsMap": {},
     "title": ""
    }
   },
   "outputs": [],
   "source": [
    "df_athletes = spark.table(\"silver.athletes\")\n",
    "df_coaches = spark.table(\"silver.coaches\")\n",
    "df_entriesGender = spark.table(\"silver.entries_gender\")\n",
    "df_medals = spark.table(\"silver.medals\")\n",
    "df_teams = spark.table(\"silver.teams\")"
   ]
  },
  {
   "cell_type": "code",
   "execution_count": 0,
   "metadata": {
    "application/vnd.databricks.v1+cell": {
     "cellMetadata": {
      "byteLimit": 2048000,
      "rowLimit": 10000
     },
     "inputWidgets": {},
     "nuid": "0c309e51-2b44-4a8f-b643-1923b93aea15",
     "showTitle": false,
     "tableResultSettingsMap": {},
     "title": ""
    }
   },
   "outputs": [
    {
     "output_type": "stream",
     "name": "stdout",
     "output_type": "stream",
     "text": [
      "+--------------------+--------------------+-----------------+\n|         person_name|             country|       discipline|\n+--------------------+--------------------+-----------------+\n|     ALLIKVEE Martin|             Estonia|         Swimming|\n|       BARAKAT Hanna|           Palestine|        Athletics|\n|     BEN ISMAIL Afef|             Tunisia|     Canoe Sprint|\n|BISHINDEE Urantun...|            Mongolia|          Archery|\n|       BRANSER Marie|Democratic Republ...|             Judo|\n|         COLMAN Samy|             Morocco|       Equestrian|\n|        CORDON Kevin|           Guatemala|        Badminton|\n| DORNBACH Maximilian|             Germany|    Cycling Track|\n|        EFOLOKO Jona|       Great Britain|        Athletics|\n|    ELZOHEIRY Mariam|               Egypt|          Fencing|\n|    GASPAROTTO Marta|               Italy|Baseball/Softball|\n|           GIL Bryan|               Spain|         Football|\n|TUNJUNG Gregoria ...|           Indonesia|        Badminton|\n|HIGUITA GARCIA Se...|            Colombia|     Cycling Road|\n|           IRR Brian|United States of ...|           Karate|\n|      KENNEDY Alanna|           Australia|         Football|\n|        KIM Seoyeong|   Republic of Korea|         Swimming|\n|  KORZENIOWSKI Pawel|              Poland|         Swimming|\n|      KULAGINA Daria|             Belarus|Artistic Swimming|\n|KUNKABAYEV Kamshybek|          Kazakhstan|           Boxing|\n+--------------------+--------------------+-----------------+\nonly showing top 20 rows\n\n+--------------------+-------------+-----------------+--------+\n|                name|      country|       discipline|   event|\n+--------------------+-------------+-----------------+--------+\n|  de VOS Robbert-Jan|  Netherlands|           Hockey|     n/a|\n|       FUJIKI Mayuko|        Spain|Artistic Swimming|    Team|\n|      MARIJNE Sjoerd|        India|           Hockey|   Women|\n|       ALAMEDA Lonni|       Canada|Baseball/Softball|Softball|\n|         LOUCKS Luke|      Nigeria|       Basketball|     n/a|\n|    AMO AGUADO Pablo|        Spain|         Football|     n/a|\n|        KUNTZ Stefan|      Germany|         Football|     Men|\n|   GOJKOVIC Vladimir|   Montenegro|       Water Polo|     Men|\n|         MAKIRI Hare|        Japan|     Rugby Sevens|   Women|\n|       ALSHEHRI Saad| Saudi Arabia|         Football|     Men|\n|         RILLIE John|    Australia|       Basketball|     n/a|\n|  ZAMPIERI Francesca|Liechtenstein|Artistic Swimming|    Duet|\n|    MOHAMMED Silifat|      Nigeria|       Basketball|     n/a|\n|  BABER Gareth Colin|         Fiji|     Rugby Sevens|     Men|\n|        HENKEL Claas|      Germany|           Hockey|     Men|\n|    IWABUCHI Kensuke|        Japan|     Rugby Sevens|     Men|\n|VITORINO de SOUZA...|        Kenya|       Volleyball|     n/a|\n|       GRAINGER Adam|      Ireland|           Hockey|     n/a|\n|   KRUMBHOLZ Olivier|       France|         Handball|   Women|\n|        TURNER Glenn|  New Zealand|           Hockey|     Men|\n+--------------------+-------------+-----------------+--------+\nonly showing top 20 rows\n\n+--------------------+------+----+-----+\n|          discipline|female|male|total|\n+--------------------+------+----+-----+\n|             Surfing|    20|  20|   40|\n| Artistic Gymnastics|    98|  98|  196|\n|           Wrestling|    96| 193|  289|\n|   Artistic Swimming|   105|   0|  105|\n|          Water Polo|   122| 146|  268|\n|      Sport Climbing|    20|  20|   40|\n|       Skateboarding|    40|  40|   80|\n|   Marathon Swimming|    25|  25|   50|\n|                Golf|    60|  60|  120|\n|                Judo|   192| 201|  393|\n|        Cycling Road|    70| 131|  201|\n|        Canoe Sprint|   123| 126|  249|\n|Cycling Mountain ...|    38|  38|   76|\n|           Athletics|   969|1072| 2041|\n|              Hockey|   192| 192|  384|\n|              Diving|    72|  71|  143|\n|            Swimming|   361| 418|  779|\n|            Football|   264| 344|  608|\n|  Cycling BMX Racing|    24|  24|   48|\n|           Taekwondo|    65|  65|  130|\n+--------------------+------+----+-----+\nonly showing top 20 rows\n\n+----+------------+----+------+------+-----+-------------+\n|rank|team_country|gold|silver|bronze|total|rank_by_total|\n+----+------------+----+------+------+-----+-------------+\n|  63|     Morocco|   1|     0|     0|    1|           77|\n|  74|      Jordan|   0|     1|     1|    2|           66|\n|  41|       Qatar|   2|     0|     1|    3|           60|\n|  77|   Lithuania|   0|     1|     0|    1|           77|\n|  48|       India|   1|     2|     4|    7|           33|\n|  15|     Hungary|   6|     7|     7|   20|           13|\n|  74|     Nigeria|   0|     1|     1|    2|           66|\n|  24| Switzerland|   3|     4|     6|   13|           20|\n|  28|      Serbia|   3|     1|     5|    9|           26|\n|  19|       Kenya|   4|     4|     2|   10|           25|\n|  36|      Greece|   2|     1|     1|    4|           47|\n|  52|South Africa|   1|     2|     0|    3|           60|\n|  86|       Ghana|   0|     0|     1|    1|           77|\n|  12|      Brazil|   7|     6|     8|   21|           12|\n|  58|     Tunisia|   1|     1|     0|    2|           66|\n|  35|      Turkey|   2|     2|     9|   13|           20|\n|  39|     Ireland|   2|     0|     2|    4|           47|\n|  77|Turkmenistan|   0|     1|     0|    1|           77|\n|  46|   Venezuela|   1|     3|     0|    4|           47|\n|  29|     Belgium|   3|     1|     3|    7|           33|\n+----+------------+----+------+------+-----+-------------+\nonly showing top 20 rows\n\n+-----------------+-------------------+--------------------+--------------------+\n|        team_name|         discipline|             country|               event|\n+-----------------+-------------------+--------------------+--------------------+\n|    Great Britain|Artistic Gymnastics|       Great Britain|        Women's Team|\n|          Nigeria|         Basketball|             Nigeria|               Women|\n|      Netherlands|           Handball|         Netherlands|               Women|\n|            Japan|         Volleyball|               Japan|                 Men|\n|    United States|            Archery|United States of ...|        Women's Team|\n|          Belgium|      Cycling Track|             Belgium|     Women's Madison|\n|           France|           Football|              France|                 Men|\n|        Australia|            Archery|           Australia|          Men's Team|\n|    United States|      Cycling Track|United States of ...|       Men's Madison|\n|            China|     3x3 Basketball|People's Republic...|                 Men|\n|            Egypt|  Artistic Swimming|               Egypt|                Team|\n|            Italy|      Cycling Track|               Italy|  Men's Team Pursuit|\n|Republic of Korea|            Fencing|   Republic of Korea|    Men's Sabre Team|\n|          Germany|           Football|             Germany|                 Men|\n|         Mongolia|     3x3 Basketball|            Mongolia|               Women|\n|           Serbia|         Volleyball|              Serbia|               Women|\n|            India|          Athletics|               India|4 x 400m Relay Mixed|\n|              ROC|            Fencing|                 ROC|     Men's Foil Team|\n|Republic of Korea|       Table Tennis|   Republic of Korea|        Women's Team|\n|          Germany|      Cycling Track|             Germany|       Men's Madison|\n+-----------------+-------------------+--------------------+--------------------+\nonly showing top 20 rows\n\n"
     ]
    }
   ],
   "source": [
    "df_athletes.show()\n",
    "df_coaches.show()\n",
    "df_entriesGender.show()\n",
    "df_medals.show()\n",
    "df_teams.show()"
   ]
  },
  {
   "cell_type": "markdown",
   "metadata": {
    "application/vnd.databricks.v1+cell": {
     "cellMetadata": {},
     "inputWidgets": {},
     "nuid": "245a6ba9-4022-4000-af47-901347ac8e71",
     "showTitle": false,
     "tableResultSettingsMap": {},
     "title": ""
    }
   },
   "source": [
    "### 1️⃣ Top 10 Countries by Total Medals \n",
    "\n",
    "**📌 Purpose:**  \n",
    "Visualize the most successful countries based on the total number of medals won."
   ]
  },
  {
   "cell_type": "code",
   "execution_count": 0,
   "metadata": {
    "application/vnd.databricks.v1+cell": {
     "cellMetadata": {
      "byteLimit": 2048000,
      "rowLimit": 10000
     },
     "inputWidgets": {},
     "nuid": "31b9da09-fa28-48f1-b1bf-10bf83dd7c31",
     "showTitle": false,
     "tableResultSettingsMap": {},
     "title": ""
    }
   },
   "outputs": [
    {
     "output_type": "display_data",
     "data": {
      "text/html": [
       "<style scoped>\n",
       "  .table-result-container {\n",
       "    max-height: 300px;\n",
       "    overflow: auto;\n",
       "  }\n",
       "  table, th, td {\n",
       "    border: 1px solid black;\n",
       "    border-collapse: collapse;\n",
       "  }\n",
       "  th, td {\n",
       "    padding: 5px;\n",
       "  }\n",
       "  th {\n",
       "    text-align: left;\n",
       "  }\n",
       "</style><div class='table-result-container'><table class='table-result'><thead style='background-color: white'><tr><th>rank</th><th>team_country</th><th>gold</th><th>silver</th><th>bronze</th><th>total</th><th>rank_by_total</th></tr></thead><tbody><tr><td>1</td><td>United States of America</td><td>39</td><td>41</td><td>33</td><td>113</td><td>1</td></tr><tr><td>2</td><td>People's Republic of China</td><td>38</td><td>32</td><td>18</td><td>88</td><td>2</td></tr><tr><td>5</td><td>ROC</td><td>20</td><td>28</td><td>23</td><td>71</td><td>3</td></tr><tr><td>4</td><td>Great Britain</td><td>22</td><td>21</td><td>22</td><td>65</td><td>4</td></tr><tr><td>3</td><td>Japan</td><td>27</td><td>14</td><td>17</td><td>58</td><td>5</td></tr><tr><td>6</td><td>Australia</td><td>17</td><td>7</td><td>22</td><td>46</td><td>6</td></tr><tr><td>10</td><td>Italy</td><td>10</td><td>10</td><td>20</td><td>40</td><td>7</td></tr><tr><td>9</td><td>Germany</td><td>10</td><td>11</td><td>16</td><td>37</td><td>8</td></tr><tr><td>7</td><td>Netherlands</td><td>10</td><td>12</td><td>14</td><td>36</td><td>9</td></tr><tr><td>8</td><td>France</td><td>10</td><td>12</td><td>11</td><td>33</td><td>10</td></tr></tbody></table></div>"
      ]
     },
     "metadata": {
      "application/vnd.databricks.v1+output": {
       "addedWidgets": {},
       "aggData": [],
       "aggError": "",
       "aggOverflow": false,
       "aggSchema": [],
       "aggSeriesLimitReached": false,
       "aggType": "",
       "arguments": {},
       "columnCustomDisplayInfos": {},
       "data": [
        [
         1,
         "United States of America",
         39,
         41,
         33,
         113,
         1
        ],
        [
         2,
         "People's Republic of China",
         38,
         32,
         18,
         88,
         2
        ],
        [
         5,
         "ROC",
         20,
         28,
         23,
         71,
         3
        ],
        [
         4,
         "Great Britain",
         22,
         21,
         22,
         65,
         4
        ],
        [
         3,
         "Japan",
         27,
         14,
         17,
         58,
         5
        ],
        [
         6,
         "Australia",
         17,
         7,
         22,
         46,
         6
        ],
        [
         10,
         "Italy",
         10,
         10,
         20,
         40,
         7
        ],
        [
         9,
         "Germany",
         10,
         11,
         16,
         37,
         8
        ],
        [
         7,
         "Netherlands",
         10,
         12,
         14,
         36,
         9
        ],
        [
         8,
         "France",
         10,
         12,
         11,
         33,
         10
        ]
       ],
       "datasetInfos": [],
       "dbfsResultPath": null,
       "isJsonSchema": true,
       "metadata": {},
       "overflow": false,
       "plotOptions": {
        "customPlotOptions": {},
        "displayType": "table",
        "pivotAggregation": null,
        "pivotColumns": null,
        "xColumns": null,
        "yColumns": null
       },
       "removedWidgets": [],
       "schema": [
        {
         "metadata": "{}",
         "name": "rank",
         "type": "\"integer\""
        },
        {
         "metadata": "{}",
         "name": "team_country",
         "type": "\"string\""
        },
        {
         "metadata": "{}",
         "name": "gold",
         "type": "\"integer\""
        },
        {
         "metadata": "{}",
         "name": "silver",
         "type": "\"integer\""
        },
        {
         "metadata": "{}",
         "name": "bronze",
         "type": "\"integer\""
        },
        {
         "metadata": "{}",
         "name": "total",
         "type": "\"integer\""
        },
        {
         "metadata": "{}",
         "name": "rank_by_total",
         "type": "\"integer\""
        }
       ],
       "type": "table"
      }
     },
     "output_type": "display_data"
    },
    {
     "output_type": "display_data",
     "data": {
      "text/plain": [
       "Databricks visualization. Run in Databricks to view."
      ]
     },
     "metadata": {
      "application/vnd.databricks.v1.subcommand+json": {
       "baseErrorDetails": null,
       "bindings": {},
       "collapsed": false,
       "command": "%python\n__backend_agg_display_orig = display\n__backend_agg_dfs = []\ndef __backend_agg_display_new(df):\n    __backend_agg_df_modules = [\"pandas.core.frame\", \"databricks.koalas.frame\", \"pyspark.sql.dataframe\", \"pyspark.pandas.frame\", \"pyspark.sql.connect.dataframe\"]\n    if (type(df).__module__ in __backend_agg_df_modules and type(df).__name__ == 'DataFrame') or isinstance(df, list):\n        __backend_agg_dfs.append(df)\n\ndisplay = __backend_agg_display_new\n\ndef __backend_agg_user_code_fn():\n    import base64\n    exec(base64.standard_b64decode(\"Z29sZF90b3BfMTAgPSBkZl9tZWRhbHMub3JkZXJCeSgiVG90YWwiLCBhc2NlbmRpbmc9RmFsc2UpLmxpbWl0KDEwKQpnb2xkX3RvcF8xMC53cml0ZS5tb2RlKCJvdmVyd3JpdGUiKS5mb3JtYXQoImRlbHRhIikuc2F2ZUFzVGFibGUoImdvbGQudG9wXzEwX2NvdW50cmllc19ieV90b3RhbF9tZWRhbHMiKQoKZ29sZF90b3BfMTAuZGlzcGxheSgp\").decode())\n\ntry:\n    # run user code\n    __backend_agg_user_code_fn()\n\n    #reset display function\n    display = __backend_agg_display_orig\n\n    if len(__backend_agg_dfs) > 0:\n        # create a temp view\n        if type(__backend_agg_dfs[0]).__module__ == \"databricks.koalas.frame\":\n            # koalas dataframe\n            __backend_agg_dfs[0].to_spark().createOrReplaceTempView(\"DatabricksView95a3530\")\n        elif type(__backend_agg_dfs[0]).__module__ == \"pandas.core.frame\" or isinstance(__backend_agg_dfs[0], list):\n            # pandas dataframe\n            spark.createDataFrame(__backend_agg_dfs[0]).createOrReplaceTempView(\"DatabricksView95a3530\")\n        else:\n            __backend_agg_dfs[0].createOrReplaceTempView(\"DatabricksView95a3530\")\n        #run backend agg\n        display(spark.sql(\"\"\"WITH q AS (select * from DatabricksView95a3530) SELECT `team_country`,SUM(`total`) `column_ace8c11043`,`total` FROM q GROUP BY `team_country`,`total`\"\"\"))\n    else:\n        displayHTML(\"dataframe no longer exists. If you're using dataframe.display(), use display(dataframe) instead.\")\n\n\nfinally:\n    spark.sql(\"drop view if exists DatabricksView95a3530\")\n    display = __backend_agg_display_orig\n    del __backend_agg_display_new\n    del __backend_agg_display_orig\n    del __backend_agg_dfs\n    del __backend_agg_user_code_fn\n\n",
       "commandTitle": "Visualization 1",
       "commandType": "auto",
       "commandVersion": 0,
       "commentThread": [],
       "commentsVisible": false,
       "contentSha256Hex": null,
       "customPlotOptions": {
        "redashChart": [
         {
          "key": "type",
          "value": "CHART"
         },
         {
          "key": "options",
          "value": {
           "alignYAxesAtZero": true,
           "coefficient": 1,
           "columnConfigurationMap": {
            "series": {
             "column": "total",
             "id": "column_ace8c11045"
            },
            "x": {
             "column": "team_country",
             "id": "column_ace8c11050"
            },
            "y": [
             {
              "column": "total",
              "id": "column_ace8c11043",
              "transform": "SUM"
             }
            ]
           },
           "dateTimeFormat": "DD/MM/YYYY HH:mm",
           "direction": {
            "type": "counterclockwise"
           },
           "error_y": {
            "type": "data",
            "visible": true
           },
           "globalSeriesType": "column",
           "isAggregationOn": true,
           "legend": {
            "traceorder": "normal"
           },
           "missingValuesAsZero": true,
           "numberFormat": "0,0.[00000]",
           "percentFormat": "0[.]00%",
           "reverseX": false,
           "series": {
            "error_y": {
             "type": "data",
             "visible": true
            },
            "stacking": null
           },
           "seriesOptions": {
            "column_ace8c11043": {
             "type": "column",
             "yAxis": 0
            },
            "rank": {
             "type": "column",
             "yAxis": 0
            }
           },
           "showDataLabels": false,
           "sizemode": "diameter",
           "sortX": false,
           "sortY": true,
           "swappedAxes": false,
           "textFormat": "",
           "useAggregationsUi": true,
           "valuesOptions": {},
           "version": 2,
           "xAxis": {
            "labels": {
             "enabled": true
            },
            "type": "-"
           },
           "yAxis": [
            {
             "type": "-"
            },
            {
             "opposite": true,
             "type": "-"
            }
           ]
          }
         }
        ]
       },
       "datasetPreviewNameToCmdIdMap": {},
       "diffDeletes": [],
       "diffInserts": [],
       "displayType": "redashChart",
       "error": null,
       "errorDetails": null,
       "errorSummary": null,
       "errorTraceType": null,
       "finishTime": 0,
       "globalVars": {},
       "guid": "",
       "height": "auto",
       "hideCommandCode": false,
       "hideCommandResult": false,
       "iPythonMetadata": null,
       "inputWidgets": {},
       "isLockedInExamMode": false,
       "latestUser": "a user",
       "latestUserId": null,
       "listResultMetadata": null,
       "metadata": {
        "byteLimit": 2048000,
        "rowLimit": 10000
       },
       "nuid": "2be55991-aa7a-4faa-8c8a-a45523c03340",
       "origId": 0,
       "parentHierarchy": [],
       "pivotAggregation": null,
       "pivotColumns": null,
       "position": 4.0,
       "resultDbfsErrorMessage": null,
       "resultDbfsStatus": "INLINED_IN_TREE",
       "results": null,
       "showCommandTitle": false,
       "startTime": 0,
       "state": "input",
       "streamStates": {},
       "subcommandOptions": {
        "queryPlan": {
         "groups": [
          {
           "column": "team_country",
           "type": "column"
          },
          {
           "column": "total",
           "type": "column"
          }
         ],
         "selects": [
          {
           "column": "team_country",
           "type": "column"
          },
          {
           "alias": "column_ace8c11043",
           "args": [
            {
             "column": "total",
             "type": "column"
            }
           ],
           "function": "SUM",
           "type": "function"
          },
          {
           "column": "total",
           "type": "column"
          }
         ]
        }
       },
       "submitTime": 0,
       "subtype": "tableResultSubCmd.visualization",
       "tableResultIndex": 0,
       "tableResultSettingsMap": {},
       "useConsistentColors": false,
       "version": "CommandV1",
       "width": "auto",
       "workflows": [],
       "xColumns": null,
       "yColumns": null
      }
     },
     "output_type": "display_data"
    }
   ],
   "source": [
    "top_countries = df_medals.orderBy(F.desc(\"total\")).limit(10)\n",
    "display(top_countries)"
   ]
  },
  {
   "cell_type": "markdown",
   "metadata": {
    "application/vnd.databricks.v1+cell": {
     "cellMetadata": {},
     "inputWidgets": {},
     "nuid": "5cdad5bc-9fe5-4f5b-88ad-412924d649f8",
     "showTitle": false,
     "tableResultSettingsMap": {},
     "title": ""
    }
   },
   "source": [
    "### 2️⃣ Gender Distribution by Discipline \n",
    "\n",
    "**📌 Purpose:**  \n",
    "Visualize the distribution of male and female participants across different disciplines."
   ]
  },
  {
   "cell_type": "code",
   "execution_count": 0,
   "metadata": {
    "application/vnd.databricks.v1+cell": {
     "cellMetadata": {
      "byteLimit": 2048000,
      "rowLimit": 10000
     },
     "inputWidgets": {},
     "nuid": "6a851e8c-5af0-40fd-8bff-79e6be7d3dee",
     "showTitle": false,
     "tableResultSettingsMap": {},
     "title": ""
    }
   },
   "outputs": [
    {
     "output_type": "display_data",
     "data": {
      "text/html": [
       "<style scoped>\n",
       "  .table-result-container {\n",
       "    max-height: 300px;\n",
       "    overflow: auto;\n",
       "  }\n",
       "  table, th, td {\n",
       "    border: 1px solid black;\n",
       "    border-collapse: collapse;\n",
       "  }\n",
       "  th, td {\n",
       "    padding: 5px;\n",
       "  }\n",
       "  th {\n",
       "    text-align: left;\n",
       "  }\n",
       "</style><div class='table-result-container'><table class='table-result'><thead style='background-color: white'><tr><th>discipline</th><th>female</th><th>male</th><th>total</th></tr></thead><tbody><tr><td>Surfing</td><td>20</td><td>20</td><td>40</td></tr><tr><td>Artistic Gymnastics</td><td>98</td><td>98</td><td>196</td></tr><tr><td>Wrestling</td><td>96</td><td>193</td><td>289</td></tr><tr><td>Artistic Swimming</td><td>105</td><td>0</td><td>105</td></tr><tr><td>Water Polo</td><td>122</td><td>146</td><td>268</td></tr><tr><td>Sport Climbing</td><td>20</td><td>20</td><td>40</td></tr><tr><td>Skateboarding</td><td>40</td><td>40</td><td>80</td></tr><tr><td>Marathon Swimming</td><td>25</td><td>25</td><td>50</td></tr><tr><td>Golf</td><td>60</td><td>60</td><td>120</td></tr><tr><td>Judo</td><td>192</td><td>201</td><td>393</td></tr><tr><td>Cycling Road</td><td>70</td><td>131</td><td>201</td></tr><tr><td>Canoe Sprint</td><td>123</td><td>126</td><td>249</td></tr><tr><td>Cycling Mountain Bike</td><td>38</td><td>38</td><td>76</td></tr><tr><td>Athletics</td><td>969</td><td>1072</td><td>2041</td></tr><tr><td>Hockey</td><td>192</td><td>192</td><td>384</td></tr><tr><td>Diving</td><td>72</td><td>71</td><td>143</td></tr><tr><td>Swimming</td><td>361</td><td>418</td><td>779</td></tr><tr><td>Football</td><td>264</td><td>344</td><td>608</td></tr><tr><td>Cycling BMX Racing</td><td>24</td><td>24</td><td>48</td></tr><tr><td>Taekwondo</td><td>65</td><td>65</td><td>130</td></tr><tr><td>Rhythmic Gymnastics</td><td>96</td><td>0</td><td>96</td></tr><tr><td>Table Tennis</td><td>86</td><td>86</td><td>172</td></tr><tr><td>Badminton</td><td>86</td><td>87</td><td>173</td></tr><tr><td>Tennis</td><td>94</td><td>97</td><td>191</td></tr><tr><td>Triathlon</td><td>55</td><td>55</td><td>110</td></tr><tr><td>Equestrian</td><td>73</td><td>125</td><td>198</td></tr><tr><td>Weightlifting</td><td>98</td><td>99</td><td>197</td></tr><tr><td>Archery</td><td>64</td><td>64</td><td>128</td></tr><tr><td>Fencing</td><td>107</td><td>108</td><td>215</td></tr><tr><td>Rowing</td><td>257</td><td>265</td><td>522</td></tr><tr><td>Karate</td><td>40</td><td>42</td><td>82</td></tr><tr><td>Canoe Slalom</td><td>41</td><td>41</td><td>82</td></tr><tr><td>Boxing</td><td>102</td><td>187</td><td>289</td></tr><tr><td>Sailing</td><td>175</td><td>175</td><td>350</td></tr><tr><td>Trampoline Gymnastics</td><td>16</td><td>16</td><td>32</td></tr><tr><td>Modern Pentathlon</td><td>36</td><td>36</td><td>72</td></tr><tr><td>3x3 Basketball</td><td>32</td><td>32</td><td>64</td></tr><tr><td>Beach Volleyball</td><td>48</td><td>48</td><td>96</td></tr><tr><td>Cycling BMX Freestyle</td><td>10</td><td>9</td><td>19</td></tr><tr><td>Handball</td><td>168</td><td>168</td><td>336</td></tr><tr><td>Rugby Sevens</td><td>146</td><td>151</td><td>297</td></tr><tr><td>Basketball</td><td>144</td><td>144</td><td>288</td></tr><tr><td>Baseball/Softball</td><td>90</td><td>144</td><td>234</td></tr><tr><td>Cycling Track</td><td>90</td><td>99</td><td>189</td></tr><tr><td>Shooting</td><td>178</td><td>178</td><td>356</td></tr><tr><td>Volleyball</td><td>144</td><td>144</td><td>288</td></tr></tbody></table></div>"
      ]
     },
     "metadata": {
      "application/vnd.databricks.v1+output": {
       "addedWidgets": {},
       "aggData": [],
       "aggError": "",
       "aggOverflow": false,
       "aggSchema": [],
       "aggSeriesLimitReached": false,
       "aggType": "",
       "arguments": {},
       "columnCustomDisplayInfos": {},
       "data": [
        [
         "Surfing",
         20,
         20,
         40
        ],
        [
         "Artistic Gymnastics",
         98,
         98,
         196
        ],
        [
         "Wrestling",
         96,
         193,
         289
        ],
        [
         "Artistic Swimming",
         105,
         0,
         105
        ],
        [
         "Water Polo",
         122,
         146,
         268
        ],
        [
         "Sport Climbing",
         20,
         20,
         40
        ],
        [
         "Skateboarding",
         40,
         40,
         80
        ],
        [
         "Marathon Swimming",
         25,
         25,
         50
        ],
        [
         "Golf",
         60,
         60,
         120
        ],
        [
         "Judo",
         192,
         201,
         393
        ],
        [
         "Cycling Road",
         70,
         131,
         201
        ],
        [
         "Canoe Sprint",
         123,
         126,
         249
        ],
        [
         "Cycling Mountain Bike",
         38,
         38,
         76
        ],
        [
         "Athletics",
         969,
         1072,
         2041
        ],
        [
         "Hockey",
         192,
         192,
         384
        ],
        [
         "Diving",
         72,
         71,
         143
        ],
        [
         "Swimming",
         361,
         418,
         779
        ],
        [
         "Football",
         264,
         344,
         608
        ],
        [
         "Cycling BMX Racing",
         24,
         24,
         48
        ],
        [
         "Taekwondo",
         65,
         65,
         130
        ],
        [
         "Rhythmic Gymnastics",
         96,
         0,
         96
        ],
        [
         "Table Tennis",
         86,
         86,
         172
        ],
        [
         "Badminton",
         86,
         87,
         173
        ],
        [
         "Tennis",
         94,
         97,
         191
        ],
        [
         "Triathlon",
         55,
         55,
         110
        ],
        [
         "Equestrian",
         73,
         125,
         198
        ],
        [
         "Weightlifting",
         98,
         99,
         197
        ],
        [
         "Archery",
         64,
         64,
         128
        ],
        [
         "Fencing",
         107,
         108,
         215
        ],
        [
         "Rowing",
         257,
         265,
         522
        ],
        [
         "Karate",
         40,
         42,
         82
        ],
        [
         "Canoe Slalom",
         41,
         41,
         82
        ],
        [
         "Boxing",
         102,
         187,
         289
        ],
        [
         "Sailing",
         175,
         175,
         350
        ],
        [
         "Trampoline Gymnastics",
         16,
         16,
         32
        ],
        [
         "Modern Pentathlon",
         36,
         36,
         72
        ],
        [
         "3x3 Basketball",
         32,
         32,
         64
        ],
        [
         "Beach Volleyball",
         48,
         48,
         96
        ],
        [
         "Cycling BMX Freestyle",
         10,
         9,
         19
        ],
        [
         "Handball",
         168,
         168,
         336
        ],
        [
         "Rugby Sevens",
         146,
         151,
         297
        ],
        [
         "Basketball",
         144,
         144,
         288
        ],
        [
         "Baseball/Softball",
         90,
         144,
         234
        ],
        [
         "Cycling Track",
         90,
         99,
         189
        ],
        [
         "Shooting",
         178,
         178,
         356
        ],
        [
         "Volleyball",
         144,
         144,
         288
        ]
       ],
       "datasetInfos": [],
       "dbfsResultPath": null,
       "isJsonSchema": true,
       "metadata": {},
       "overflow": false,
       "plotOptions": {
        "customPlotOptions": {},
        "displayType": "table",
        "pivotAggregation": null,
        "pivotColumns": null,
        "xColumns": null,
        "yColumns": null
       },
       "removedWidgets": [],
       "schema": [
        {
         "metadata": "{}",
         "name": "discipline",
         "type": "\"string\""
        },
        {
         "metadata": "{}",
         "name": "female",
         "type": "\"integer\""
        },
        {
         "metadata": "{}",
         "name": "male",
         "type": "\"integer\""
        },
        {
         "metadata": "{}",
         "name": "total",
         "type": "\"integer\""
        }
       ],
       "type": "table"
      }
     },
     "output_type": "display_data"
    },
    {
     "output_type": "display_data",
     "data": {
      "text/plain": [
       "Databricks visualization. Run in Databricks to view."
      ]
     },
     "metadata": {
      "application/vnd.databricks.v1.subcommand+json": {
       "baseErrorDetails": null,
       "bindings": {},
       "collapsed": false,
       "command": "%python\n__backend_agg_display_orig = display\n__backend_agg_dfs = []\ndef __backend_agg_display_new(df):\n    __backend_agg_df_modules = [\"pandas.core.frame\", \"databricks.koalas.frame\", \"pyspark.sql.dataframe\", \"pyspark.pandas.frame\", \"pyspark.sql.connect.dataframe\"]\n    if (type(df).__module__ in __backend_agg_df_modules and type(df).__name__ == 'DataFrame') or isinstance(df, list):\n        __backend_agg_dfs.append(df)\n\ndisplay = __backend_agg_display_new\n\ndef __backend_agg_user_code_fn():\n    import base64\n    exec(base64.standard_b64decode(\"ZGlzcGxheShkZl9lbnRyaWVzR2VuZGVyKQ==\").decode())\n\ntry:\n    # run user code\n    __backend_agg_user_code_fn()\n\n    #reset display function\n    display = __backend_agg_display_orig\n\n    if len(__backend_agg_dfs) > 0:\n        # create a temp view\n        if type(__backend_agg_dfs[0]).__module__ == \"databricks.koalas.frame\":\n            # koalas dataframe\n            __backend_agg_dfs[0].to_spark().createOrReplaceTempView(\"DatabricksView2fd2512\")\n        elif type(__backend_agg_dfs[0]).__module__ == \"pandas.core.frame\" or isinstance(__backend_agg_dfs[0], list):\n            # pandas dataframe\n            spark.createDataFrame(__backend_agg_dfs[0]).createOrReplaceTempView(\"DatabricksView2fd2512\")\n        else:\n            __backend_agg_dfs[0].createOrReplaceTempView(\"DatabricksView2fd2512\")\n        #run backend agg\n        display(spark.sql(\"\"\"WITH q AS (select * from DatabricksView2fd2512) SELECT `discipline`,SUM(`female`) `column_97ba874826`,SUM(`male`) `column_97ba874829`,`total`,STDDEV(`female`) `column_97ba874823` FROM q GROUP BY `discipline`,`total`\"\"\"))\n    else:\n        displayHTML(\"dataframe no longer exists. If you're using dataframe.display(), use display(dataframe) instead.\")\n\n\nfinally:\n    spark.sql(\"drop view if exists DatabricksView2fd2512\")\n    display = __backend_agg_display_orig\n    del __backend_agg_display_new\n    del __backend_agg_display_orig\n    del __backend_agg_dfs\n    del __backend_agg_user_code_fn\n\n",
       "commandTitle": "Visualization 1",
       "commandType": "auto",
       "commandVersion": 0,
       "commentThread": [],
       "commentsVisible": false,
       "contentSha256Hex": null,
       "customPlotOptions": {
        "redashChart": [
         {
          "key": "type",
          "value": "CHART"
         },
         {
          "key": "options",
          "value": {
           "alignYAxesAtZero": true,
           "coefficient": 1,
           "columnConfigurationMap": {
            "series": {
             "column": "total",
             "id": "column_97ba874832"
            },
            "x": {
             "column": "discipline",
             "id": "column_97ba874817"
            },
            "y": [
             {
              "column": "female",
              "id": "column_97ba874826",
              "transform": "SUM"
             },
             {
              "column": "male",
              "id": "column_97ba874829",
              "transform": "SUM"
             }
            ],
            "yError": {
             "column": "female",
             "id": "column_97ba874823",
             "transform": "STDDEV"
            }
           },
           "dateTimeFormat": "DD/MM/YYYY HH:mm",
           "direction": {
            "type": "counterclockwise"
           },
           "error_y": {
            "type": "data",
            "visible": true
           },
           "globalSeriesType": "column",
           "isAggregationOn": true,
           "legend": {
            "traceorder": "normal"
           },
           "missingValuesAsZero": true,
           "numberFormat": "0,0.[00000]",
           "percentFormat": "0[.]00%",
           "series": {
            "error_y": {
             "type": "data",
             "visible": true
            },
            "stacking": "stack"
           },
           "seriesOptions": {
            "column_97ba874826": {
             "type": "column",
             "yAxis": 0
            },
            "column_97ba874829": {
             "type": "column",
             "yAxis": 0
            }
           },
           "showDataLabels": false,
           "sizemode": "diameter",
           "sortX": true,
           "sortY": true,
           "swappedAxes": false,
           "textFormat": "",
           "useAggregationsUi": true,
           "valuesOptions": {},
           "version": 2,
           "xAxis": {
            "labels": {
             "enabled": true
            },
            "type": "-"
           },
           "yAxis": [
            {
             "type": "-"
            },
            {
             "opposite": true,
             "type": "-"
            }
           ]
          }
         }
        ]
       },
       "datasetPreviewNameToCmdIdMap": {},
       "diffDeletes": [],
       "diffInserts": [],
       "displayType": "redashChart",
       "error": null,
       "errorDetails": null,
       "errorSummary": null,
       "errorTraceType": null,
       "finishTime": 0,
       "globalVars": {},
       "guid": "",
       "height": "auto",
       "hideCommandCode": false,
       "hideCommandResult": false,
       "iPythonMetadata": null,
       "inputWidgets": {},
       "isLockedInExamMode": false,
       "latestUser": "a user",
       "latestUserId": null,
       "listResultMetadata": null,
       "metadata": {},
       "nuid": "7545ab7f-0c1a-45ce-86de-f0110ce8e1ed",
       "origId": 0,
       "parentHierarchy": [],
       "pivotAggregation": null,
       "pivotColumns": null,
       "position": 5.0,
       "resultDbfsErrorMessage": null,
       "resultDbfsStatus": "INLINED_IN_TREE",
       "results": null,
       "showCommandTitle": false,
       "startTime": 0,
       "state": "input",
       "streamStates": {},
       "subcommandOptions": {
        "queryPlan": {
         "groups": [
          {
           "column": "discipline",
           "type": "column"
          },
          {
           "column": "total",
           "type": "column"
          }
         ],
         "selects": [
          {
           "column": "discipline",
           "type": "column"
          },
          {
           "alias": "column_97ba874826",
           "args": [
            {
             "column": "female",
             "type": "column"
            }
           ],
           "function": "SUM",
           "type": "function"
          },
          {
           "alias": "column_97ba874829",
           "args": [
            {
             "column": "male",
             "type": "column"
            }
           ],
           "function": "SUM",
           "type": "function"
          },
          {
           "column": "total",
           "type": "column"
          },
          {
           "alias": "column_97ba874823",
           "args": [
            {
             "column": "female",
             "type": "column"
            }
           ],
           "function": "STDDEV",
           "type": "function"
          }
         ]
        }
       },
       "submitTime": 0,
       "subtype": "tableResultSubCmd.visualization",
       "tableResultIndex": 0,
       "tableResultSettingsMap": {},
       "useConsistentColors": false,
       "version": "CommandV1",
       "width": "auto",
       "workflows": [],
       "xColumns": null,
       "yColumns": null
      }
     },
     "output_type": "display_data"
    }
   ],
   "source": [
    "display(df_entriesGender)"
   ]
  },
  {
   "cell_type": "markdown",
   "metadata": {
    "application/vnd.databricks.v1+cell": {
     "cellMetadata": {},
     "inputWidgets": {},
     "nuid": "ff0913c8-8cd3-427b-a25d-d1bb44ecc6f2",
     "showTitle": false,
     "tableResultSettingsMap": {},
     "title": ""
    }
   },
   "source": [
    "### 3️⃣ Number of Athletes per Country\n",
    "\n",
    "**📌 Purpose:**  \n",
    "Visualize the number of athletes representing each country."
   ]
  },
  {
   "cell_type": "code",
   "execution_count": 0,
   "metadata": {
    "application/vnd.databricks.v1+cell": {
     "cellMetadata": {
      "byteLimit": 2048000,
      "rowLimit": 10000
     },
     "inputWidgets": {},
     "nuid": "d0dd8e72-a7c5-4a0c-8d92-9214cc8185ec",
     "showTitle": false,
     "tableResultSettingsMap": {},
     "title": ""
    }
   },
   "outputs": [
    {
     "output_type": "display_data",
     "data": {
      "text/html": [
       "<style scoped>\n",
       "  .table-result-container {\n",
       "    max-height: 300px;\n",
       "    overflow: auto;\n",
       "  }\n",
       "  table, th, td {\n",
       "    border: 1px solid black;\n",
       "    border-collapse: collapse;\n",
       "  }\n",
       "  th, td {\n",
       "    padding: 5px;\n",
       "  }\n",
       "  th {\n",
       "    text-align: left;\n",
       "  }\n",
       "</style><div class='table-result-container'><table class='table-result'><thead style='background-color: white'><tr><th>country</th><th>num_athletes</th></tr></thead><tbody><tr><td>United States of America</td><td>614</td></tr><tr><td>Japan</td><td>585</td></tr><tr><td>Australia</td><td>470</td></tr><tr><td>Germany</td><td>399</td></tr><tr><td>People's Republic of China</td><td>398</td></tr><tr><td>France</td><td>377</td></tr><tr><td>Canada</td><td>368</td></tr><tr><td>Great Britain</td><td>366</td></tr><tr><td>Italy</td><td>354</td></tr><tr><td>Spain</td><td>324</td></tr><tr><td>ROC</td><td>318</td></tr><tr><td>Brazil</td><td>291</td></tr><tr><td>Netherlands</td><td>272</td></tr><tr><td>Republic of Korea</td><td>222</td></tr><tr><td>New Zealand</td><td>202</td></tr></tbody></table></div>"
      ]
     },
     "metadata": {
      "application/vnd.databricks.v1+output": {
       "addedWidgets": {},
       "aggData": [],
       "aggError": "",
       "aggOverflow": false,
       "aggSchema": [],
       "aggSeriesLimitReached": false,
       "aggType": "",
       "arguments": {},
       "columnCustomDisplayInfos": {},
       "data": [
        [
         "United States of America",
         614
        ],
        [
         "Japan",
         585
        ],
        [
         "Australia",
         470
        ],
        [
         "Germany",
         399
        ],
        [
         "People's Republic of China",
         398
        ],
        [
         "France",
         377
        ],
        [
         "Canada",
         368
        ],
        [
         "Great Britain",
         366
        ],
        [
         "Italy",
         354
        ],
        [
         "Spain",
         324
        ],
        [
         "ROC",
         318
        ],
        [
         "Brazil",
         291
        ],
        [
         "Netherlands",
         272
        ],
        [
         "Republic of Korea",
         222
        ],
        [
         "New Zealand",
         202
        ]
       ],
       "datasetInfos": [],
       "dbfsResultPath": null,
       "isJsonSchema": true,
       "metadata": {},
       "overflow": false,
       "plotOptions": {
        "customPlotOptions": {},
        "displayType": "table",
        "pivotAggregation": null,
        "pivotColumns": null,
        "xColumns": null,
        "yColumns": null
       },
       "removedWidgets": [],
       "schema": [
        {
         "metadata": "{}",
         "name": "country",
         "type": "\"string\""
        },
        {
         "metadata": "{}",
         "name": "num_athletes",
         "type": "\"long\""
        }
       ],
       "type": "table"
      }
     },
     "output_type": "display_data"
    },
    {
     "output_type": "display_data",
     "data": {
      "text/plain": [
       "Databricks visualization. Run in Databricks to view."
      ]
     },
     "metadata": {
      "application/vnd.databricks.v1.subcommand+json": {
       "baseErrorDetails": null,
       "bindings": {},
       "collapsed": false,
       "command": "%python\n__backend_agg_display_orig = display\n__backend_agg_dfs = []\ndef __backend_agg_display_new(df):\n    __backend_agg_df_modules = [\"pandas.core.frame\", \"databricks.koalas.frame\", \"pyspark.sql.dataframe\", \"pyspark.pandas.frame\", \"pyspark.sql.connect.dataframe\"]\n    if (type(df).__module__ in __backend_agg_df_modules and type(df).__name__ == 'DataFrame') or isinstance(df, list):\n        __backend_agg_dfs.append(df)\n\ndisplay = __backend_agg_display_new\n\ndef __backend_agg_user_code_fn():\n    import base64\n    exec(base64.standard_b64decode(\"YXRobGV0ZV9jb3VudHMgPSAoCiAgICBkZl9hdGhsZXRlcwogICAgLmdyb3VwQnkoImNvdW50cnkiKQogICAgLmFnZyhGLmNvdW50RGlzdGluY3QoInBlcnNvbl9uYW1lIikuYWxpYXMoIm51bV9hdGhsZXRlcyIpKQogICAgLm9yZGVyQnkoRi5kZXNjKCJudW1fYXRobGV0ZXMiKSkKICAgIC5saW1pdCgxNSkKKQpkaXNwbGF5KGF0aGxldGVfY291bnRzKQ==\").decode())\n\ntry:\n    # run user code\n    __backend_agg_user_code_fn()\n\n    #reset display function\n    display = __backend_agg_display_orig\n\n    if len(__backend_agg_dfs) > 0:\n        # create a temp view\n        if type(__backend_agg_dfs[0]).__module__ == \"databricks.koalas.frame\":\n            # koalas dataframe\n            __backend_agg_dfs[0].to_spark().createOrReplaceTempView(\"DatabricksView96c5be7\")\n        elif type(__backend_agg_dfs[0]).__module__ == \"pandas.core.frame\" or isinstance(__backend_agg_dfs[0], list):\n            # pandas dataframe\n            spark.createDataFrame(__backend_agg_dfs[0]).createOrReplaceTempView(\"DatabricksView96c5be7\")\n        else:\n            __backend_agg_dfs[0].createOrReplaceTempView(\"DatabricksView96c5be7\")\n        #run backend agg\n        display(spark.sql(\"\"\"WITH q AS (select * from DatabricksView96c5be7) SELECT `country`,SUM(`num_athletes`) `column_97ba874854`,`country` FROM q GROUP BY `country`\"\"\"))\n    else:\n        displayHTML(\"dataframe no longer exists. If you're using dataframe.display(), use display(dataframe) instead.\")\n\n\nfinally:\n    spark.sql(\"drop view if exists DatabricksView96c5be7\")\n    display = __backend_agg_display_orig\n    del __backend_agg_display_new\n    del __backend_agg_display_orig\n    del __backend_agg_dfs\n    del __backend_agg_user_code_fn\n\n",
       "commandTitle": "Visualization 1",
       "commandType": "auto",
       "commandVersion": 0,
       "commentThread": [],
       "commentsVisible": false,
       "contentSha256Hex": null,
       "customPlotOptions": {
        "redashChart": [
         {
          "key": "type",
          "value": "CHART"
         },
         {
          "key": "options",
          "value": {
           "alignYAxesAtZero": true,
           "coefficient": 1,
           "columnConfigurationMap": {
            "series": {
             "column": "country",
             "id": "column_97ba874856"
            },
            "x": {
             "column": "country",
             "id": "column_97ba874853"
            },
            "y": [
             {
              "column": "num_athletes",
              "id": "column_97ba874854",
              "transform": "SUM"
             }
            ]
           },
           "dateTimeFormat": "DD/MM/YYYY HH:mm",
           "direction": {
            "type": "counterclockwise"
           },
           "error_y": {
            "type": "data",
            "visible": true
           },
           "globalSeriesType": "column",
           "isAggregationOn": true,
           "legend": {
            "traceorder": "normal"
           },
           "missingValuesAsZero": true,
           "numberFormat": "0,0.[00000]",
           "percentFormat": "0[.]00%",
           "series": {
            "error_y": {
             "type": "data",
             "visible": true
            },
            "stacking": "stack"
           },
           "seriesOptions": {
            "column_97ba874854": {
             "name": "num_athletes",
             "yAxis": 0
            }
           },
           "showDataLabels": false,
           "sizemode": "diameter",
           "sortX": false,
           "sortY": true,
           "swappedAxes": false,
           "textFormat": "",
           "useAggregationsUi": true,
           "valuesOptions": {},
           "version": 2,
           "xAxis": {
            "labels": {
             "enabled": true
            },
            "type": "-"
           },
           "yAxis": [
            {
             "type": "-"
            },
            {
             "opposite": true,
             "type": "-"
            }
           ]
          }
         }
        ]
       },
       "datasetPreviewNameToCmdIdMap": {},
       "diffDeletes": [],
       "diffInserts": [],
       "displayType": "redashChart",
       "error": null,
       "errorDetails": null,
       "errorSummary": null,
       "errorTraceType": null,
       "finishTime": 0,
       "globalVars": {},
       "guid": "",
       "height": "auto",
       "hideCommandCode": false,
       "hideCommandResult": false,
       "iPythonMetadata": null,
       "inputWidgets": {},
       "isLockedInExamMode": false,
       "latestUser": "a user",
       "latestUserId": null,
       "listResultMetadata": null,
       "metadata": {},
       "nuid": "43e2deee-bdf4-4f9c-89b3-44ee7a59188f",
       "origId": 0,
       "parentHierarchy": [],
       "pivotAggregation": null,
       "pivotColumns": null,
       "position": 6.0,
       "resultDbfsErrorMessage": null,
       "resultDbfsStatus": "INLINED_IN_TREE",
       "results": null,
       "showCommandTitle": false,
       "startTime": 0,
       "state": "input",
       "streamStates": {},
       "subcommandOptions": {
        "queryPlan": {
         "groups": [
          {
           "column": "country",
           "type": "column"
          },
          {
           "column": "country",
           "type": "column"
          }
         ],
         "selects": [
          {
           "column": "country",
           "type": "column"
          },
          {
           "alias": "column_97ba874854",
           "args": [
            {
             "column": "num_athletes",
             "type": "column"
            }
           ],
           "function": "SUM",
           "type": "function"
          },
          {
           "column": "country",
           "type": "column"
          }
         ]
        }
       },
       "submitTime": 0,
       "subtype": "tableResultSubCmd.visualization",
       "tableResultIndex": 0,
       "tableResultSettingsMap": {},
       "useConsistentColors": false,
       "version": "CommandV1",
       "width": "auto",
       "workflows": [],
       "xColumns": null,
       "yColumns": null
      }
     },
     "output_type": "display_data"
    }
   ],
   "source": [
    "athlete_counts = (\n",
    "    df_athletes\n",
    "    .groupBy(\"country\")\n",
    "    .agg(F.countDistinct(\"person_name\").alias(\"num_athletes\"))\n",
    "    .orderBy(F.desc(\"num_athletes\"))\n",
    "    .limit(15)\n",
    ")\n",
    "display(athlete_counts)"
   ]
  },
  {
   "cell_type": "markdown",
   "metadata": {
    "application/vnd.databricks.v1+cell": {
     "cellMetadata": {},
     "inputWidgets": {},
     "nuid": "d49e7ac2-ef35-4214-bd5c-9019bd1b1053",
     "showTitle": false,
     "tableResultSettingsMap": {},
     "title": ""
    }
   },
   "source": [
    "### 4️⃣ Participation per Discipline\n",
    "\n",
    "**📌 Purpose:**  \n",
    "Visualize the total number of participants in each discipline"
   ]
  },
  {
   "cell_type": "code",
   "execution_count": 0,
   "metadata": {
    "application/vnd.databricks.v1+cell": {
     "cellMetadata": {
      "byteLimit": 2048000,
      "rowLimit": 10000
     },
     "inputWidgets": {},
     "nuid": "404c0026-3453-44e1-9034-6c71af0850af",
     "showTitle": false,
     "tableResultSettingsMap": {},
     "title": ""
    }
   },
   "outputs": [
    {
     "output_type": "display_data",
     "data": {
      "text/html": [
       "<style scoped>\n",
       "  .table-result-container {\n",
       "    max-height: 300px;\n",
       "    overflow: auto;\n",
       "  }\n",
       "  table, th, td {\n",
       "    border: 1px solid black;\n",
       "    border-collapse: collapse;\n",
       "  }\n",
       "  th, td {\n",
       "    padding: 5px;\n",
       "  }\n",
       "  th {\n",
       "    text-align: left;\n",
       "  }\n",
       "</style><div class='table-result-container'><table class='table-result'><thead style='background-color: white'><tr><th>discipline</th><th>num_participants</th></tr></thead><tbody><tr><td>Athletics</td><td>2068</td></tr><tr><td>Swimming</td><td>743</td></tr><tr><td>Football</td><td>567</td></tr><tr><td>Rowing</td><td>496</td></tr><tr><td>Hockey</td><td>406</td></tr><tr><td>Judo</td><td>373</td></tr><tr><td>Handball</td><td>342</td></tr><tr><td>Shooting</td><td>342</td></tr><tr><td>Sailing</td><td>336</td></tr><tr><td>Rugby Sevens</td><td>283</td></tr><tr><td>Basketball</td><td>280</td></tr><tr><td>Wrestling</td><td>279</td></tr><tr><td>Volleyball</td><td>274</td></tr><tr><td>Boxing</td><td>270</td></tr><tr><td>Water Polo</td><td>269</td></tr></tbody></table></div>"
      ]
     },
     "metadata": {
      "application/vnd.databricks.v1+output": {
       "addedWidgets": {},
       "aggData": [],
       "aggError": "",
       "aggOverflow": false,
       "aggSchema": [],
       "aggSeriesLimitReached": false,
       "aggType": "",
       "arguments": {},
       "columnCustomDisplayInfos": {},
       "data": [
        [
         "Athletics",
         2068
        ],
        [
         "Swimming",
         743
        ],
        [
         "Football",
         567
        ],
        [
         "Rowing",
         496
        ],
        [
         "Hockey",
         406
        ],
        [
         "Judo",
         373
        ],
        [
         "Handball",
         342
        ],
        [
         "Shooting",
         342
        ],
        [
         "Sailing",
         336
        ],
        [
         "Rugby Sevens",
         283
        ],
        [
         "Basketball",
         280
        ],
        [
         "Wrestling",
         279
        ],
        [
         "Volleyball",
         274
        ],
        [
         "Boxing",
         270
        ],
        [
         "Water Polo",
         269
        ]
       ],
       "datasetInfos": [],
       "dbfsResultPath": null,
       "isJsonSchema": true,
       "metadata": {},
       "overflow": false,
       "plotOptions": {
        "customPlotOptions": {},
        "displayType": "table",
        "pivotAggregation": null,
        "pivotColumns": null,
        "xColumns": null,
        "yColumns": null
       },
       "removedWidgets": [],
       "schema": [
        {
         "metadata": "{}",
         "name": "discipline",
         "type": "\"string\""
        },
        {
         "metadata": "{}",
         "name": "num_participants",
         "type": "\"long\""
        }
       ],
       "type": "table"
      }
     },
     "output_type": "display_data"
    },
    {
     "output_type": "display_data",
     "data": {
      "text/plain": [
       "Databricks visualization. Run in Databricks to view."
      ]
     },
     "metadata": {
      "application/vnd.databricks.v1.subcommand+json": {
       "baseErrorDetails": null,
       "bindings": {},
       "collapsed": false,
       "command": "%python\n__backend_agg_display_orig = display\n__backend_agg_dfs = []\ndef __backend_agg_display_new(df):\n    __backend_agg_df_modules = [\"pandas.core.frame\", \"databricks.koalas.frame\", \"pyspark.sql.dataframe\", \"pyspark.pandas.frame\", \"pyspark.sql.connect.dataframe\"]\n    if (type(df).__module__ in __backend_agg_df_modules and type(df).__name__ == 'DataFrame') or isinstance(df, list):\n        __backend_agg_dfs.append(df)\n\ndisplay = __backend_agg_display_new\n\ndef __backend_agg_user_code_fn():\n    import base64\n    exec(base64.standard_b64decode(\"ZGlzY2lwbGluZV9jb3VudHMgPSAoCiAgICBkZl9hdGhsZXRlcwogICAgLmdyb3VwQnkoImRpc2NpcGxpbmUiKQogICAgLmFnZyhGLmNvdW50KCIqIikuYWxpYXMoIm51bV9wYXJ0aWNpcGFudHMiKSkKICAgIC5vcmRlckJ5KEYuZGVzYygibnVtX3BhcnRpY2lwYW50cyIpKQogICAgLmxpbWl0KDE1KQopCgpkaXNwbGF5KGRpc2NpcGxpbmVfY291bnRzKQo=\").decode())\n\ntry:\n    # run user code\n    __backend_agg_user_code_fn()\n\n    #reset display function\n    display = __backend_agg_display_orig\n\n    if len(__backend_agg_dfs) > 0:\n        # create a temp view\n        if type(__backend_agg_dfs[0]).__module__ == \"databricks.koalas.frame\":\n            # koalas dataframe\n            __backend_agg_dfs[0].to_spark().createOrReplaceTempView(\"DatabricksView214fb67\")\n        elif type(__backend_agg_dfs[0]).__module__ == \"pandas.core.frame\" or isinstance(__backend_agg_dfs[0], list):\n            # pandas dataframe\n            spark.createDataFrame(__backend_agg_dfs[0]).createOrReplaceTempView(\"DatabricksView214fb67\")\n        else:\n            __backend_agg_dfs[0].createOrReplaceTempView(\"DatabricksView214fb67\")\n        #run backend agg\n        display(spark.sql(\"\"\"WITH q AS (select * from DatabricksView214fb67) SELECT `discipline`,SUM(`num_participants`) `column_97ba874859`,`discipline` FROM q GROUP BY `discipline`\"\"\"))\n    else:\n        displayHTML(\"dataframe no longer exists. If you're using dataframe.display(), use display(dataframe) instead.\")\n\n\nfinally:\n    spark.sql(\"drop view if exists DatabricksView214fb67\")\n    display = __backend_agg_display_orig\n    del __backend_agg_display_new\n    del __backend_agg_display_orig\n    del __backend_agg_dfs\n    del __backend_agg_user_code_fn\n\n",
       "commandTitle": "Visualization 1",
       "commandType": "auto",
       "commandVersion": 0,
       "commentThread": [],
       "commentsVisible": false,
       "contentSha256Hex": null,
       "customPlotOptions": {
        "redashChart": [
         {
          "key": "type",
          "value": "CHART"
         },
         {
          "key": "options",
          "value": {
           "alignYAxesAtZero": true,
           "coefficient": 1,
           "columnConfigurationMap": {
            "series": {
             "column": "discipline",
             "id": "column_97ba874861"
            },
            "x": {
             "column": "discipline",
             "id": "column_97ba874858"
            },
            "y": [
             {
              "column": "num_participants",
              "id": "column_97ba874859",
              "transform": "SUM"
             }
            ]
           },
           "dateTimeFormat": "DD/MM/YYYY HH:mm",
           "direction": {
            "type": "counterclockwise"
           },
           "error_y": {
            "type": "data",
            "visible": true
           },
           "globalSeriesType": "column",
           "isAggregationOn": true,
           "legend": {
            "traceorder": "normal"
           },
           "missingValuesAsZero": true,
           "numberFormat": "0,0.[00000]",
           "percentFormat": "0[.]00%",
           "series": {
            "error_y": {
             "type": "data",
             "visible": true
            },
            "stacking": "stack"
           },
           "seriesOptions": {
            "column_97ba874859": {
             "name": "num_participants",
             "yAxis": 0
            }
           },
           "showDataLabels": false,
           "sizemode": "diameter",
           "sortX": false,
           "sortY": true,
           "swappedAxes": false,
           "textFormat": "",
           "useAggregationsUi": true,
           "valuesOptions": {},
           "version": 2,
           "xAxis": {
            "labels": {
             "enabled": true
            },
            "type": "-"
           },
           "yAxis": [
            {
             "type": "-"
            },
            {
             "opposite": true,
             "type": "-"
            }
           ]
          }
         }
        ]
       },
       "datasetPreviewNameToCmdIdMap": {},
       "diffDeletes": [],
       "diffInserts": [],
       "displayType": "redashChart",
       "error": null,
       "errorDetails": null,
       "errorSummary": null,
       "errorTraceType": null,
       "finishTime": 0,
       "globalVars": {},
       "guid": "",
       "height": "auto",
       "hideCommandCode": false,
       "hideCommandResult": false,
       "iPythonMetadata": null,
       "inputWidgets": {},
       "isLockedInExamMode": false,
       "latestUser": "a user",
       "latestUserId": null,
       "listResultMetadata": null,
       "metadata": {},
       "nuid": "d0a89bc2-e2ce-408b-b93b-f561aeab741f",
       "origId": 0,
       "parentHierarchy": [],
       "pivotAggregation": null,
       "pivotColumns": null,
       "position": 8.0,
       "resultDbfsErrorMessage": null,
       "resultDbfsStatus": "INLINED_IN_TREE",
       "results": null,
       "showCommandTitle": false,
       "startTime": 0,
       "state": "input",
       "streamStates": {},
       "subcommandOptions": {
        "queryPlan": {
         "groups": [
          {
           "column": "discipline",
           "type": "column"
          },
          {
           "column": "discipline",
           "type": "column"
          }
         ],
         "selects": [
          {
           "column": "discipline",
           "type": "column"
          },
          {
           "alias": "column_97ba874859",
           "args": [
            {
             "column": "num_participants",
             "type": "column"
            }
           ],
           "function": "SUM",
           "type": "function"
          },
          {
           "column": "discipline",
           "type": "column"
          }
         ]
        }
       },
       "submitTime": 0,
       "subtype": "tableResultSubCmd.visualization",
       "tableResultIndex": 0,
       "tableResultSettingsMap": {},
       "useConsistentColors": false,
       "version": "CommandV1",
       "width": "auto",
       "workflows": [],
       "xColumns": null,
       "yColumns": null
      }
     },
     "output_type": "display_data"
    }
   ],
   "source": [
    "discipline_counts = (\n",
    "    df_athletes\n",
    "    .groupBy(\"discipline\")\n",
    "    .agg(F.count(\"*\").alias(\"num_participants\"))\n",
    "    .orderBy(F.desc(\"num_participants\"))\n",
    "    .limit(15)\n",
    ")\n",
    "\n",
    "display(discipline_counts)\n"
   ]
  },
  {
   "cell_type": "markdown",
   "metadata": {
    "application/vnd.databricks.v1+cell": {
     "cellMetadata": {},
     "inputWidgets": {},
     "nuid": "725679cf-1b6d-4c7d-b14c-71ee5b013798",
     "showTitle": false,
     "tableResultSettingsMap": {},
     "title": ""
    }
   },
   "source": [
    "### 5️⃣ Medal Share Distribution for India – Pie Chart  🥇🥈🥉\n",
    "\n",
    "**📌 Purpose:**  \n",
    "Show the percentage share of each type of medal (Gold, Silver, Bronze) that India has won."
   ]
  },
  {
   "cell_type": "code",
   "execution_count": 0,
   "metadata": {
    "application/vnd.databricks.v1+cell": {
     "cellMetadata": {
      "byteLimit": 2048000,
      "rowLimit": 10000
     },
     "inputWidgets": {},
     "nuid": "ba087698-c87c-4b9c-a3d0-5fbe6a2fd75b",
     "showTitle": false,
     "tableResultSettingsMap": {},
     "title": ""
    }
   },
   "outputs": [
    {
     "output_type": "display_data",
     "data": {
      "text/html": [
       "<style scoped>\n",
       "  .table-result-container {\n",
       "    max-height: 300px;\n",
       "    overflow: auto;\n",
       "  }\n",
       "  table, th, td {\n",
       "    border: 1px solid black;\n",
       "    border-collapse: collapse;\n",
       "  }\n",
       "  th, td {\n",
       "    padding: 5px;\n",
       "  }\n",
       "  th {\n",
       "    text-align: left;\n",
       "  }\n",
       "</style><div class='table-result-container'><table class='table-result'><thead style='background-color: white'><tr><th>medal_type</th><th>count</th></tr></thead><tbody><tr><td>Gold</td><td>1</td></tr><tr><td>Silver</td><td>2</td></tr><tr><td>Bronze</td><td>4</td></tr></tbody></table></div>"
      ]
     },
     "metadata": {
      "application/vnd.databricks.v1+output": {
       "addedWidgets": {},
       "aggData": [],
       "aggError": "",
       "aggOverflow": false,
       "aggSchema": [],
       "aggSeriesLimitReached": false,
       "aggType": "",
       "arguments": {},
       "columnCustomDisplayInfos": {},
       "data": [
        [
         "Gold",
         1
        ],
        [
         "Silver",
         2
        ],
        [
         "Bronze",
         4
        ]
       ],
       "datasetInfos": [],
       "dbfsResultPath": null,
       "isJsonSchema": true,
       "metadata": {},
       "overflow": false,
       "plotOptions": {
        "customPlotOptions": {},
        "displayType": "table",
        "pivotAggregation": null,
        "pivotColumns": null,
        "xColumns": null,
        "yColumns": null
       },
       "removedWidgets": [],
       "schema": [
        {
         "metadata": "{}",
         "name": "medal_type",
         "type": "\"string\""
        },
        {
         "metadata": "{}",
         "name": "count",
         "type": "\"integer\""
        }
       ],
       "type": "table"
      }
     },
     "output_type": "display_data"
    },
    {
     "output_type": "display_data",
     "data": {
      "text/plain": [
       "Databricks visualization. Run in Databricks to view."
      ]
     },
     "metadata": {
      "application/vnd.databricks.v1.subcommand+json": {
       "baseErrorDetails": null,
       "bindings": {},
       "collapsed": false,
       "command": "%python\n__backend_agg_display_orig = display\n__backend_agg_dfs = []\ndef __backend_agg_display_new(df):\n    __backend_agg_df_modules = [\"pandas.core.frame\", \"databricks.koalas.frame\", \"pyspark.sql.dataframe\", \"pyspark.pandas.frame\", \"pyspark.sql.connect.dataframe\"]\n    if (type(df).__module__ in __backend_agg_df_modules and type(df).__name__ == 'DataFrame') or isinstance(df, list):\n        __backend_agg_dfs.append(df)\n\ndisplay = __backend_agg_display_new\n\ndef __backend_agg_user_code_fn():\n    import base64\n    exec(base64.standard_b64decode(\"IyBQcmVwYXJlIEluZGlhJ3MgbWVkYWwgZGF0YSBpbiBsb25nIGZvcm1hdAppbmRpYV9tZWRhbHNfbG9uZyA9IGluZGlhX21lZGFscy5zZWxlY3RFeHByKAogICAgIidHb2xkJyBhcyBtZWRhbF90eXBlIiwgImdvbGQgYXMgY291bnQiCikudW5pb24oCiAgICBpbmRpYV9tZWRhbHMuc2VsZWN0RXhwcigiJ1NpbHZlcicgYXMgbWVkYWxfdHlwZSIsICJzaWx2ZXIgYXMgY291bnQiKQopLnVuaW9uKAogICAgaW5kaWFfbWVkYWxzLnNlbGVjdEV4cHIoIidCcm9uemUnIGFzIG1lZGFsX3R5cGUiLCAiYnJvbnplIGFzIGNvdW50IikKKQoKIyBEaXNwbGF5IHBpZSBjaGFydApkaXNwbGF5KGluZGlhX21lZGFsc19sb25nKQoK\").decode())\n\ntry:\n    # run user code\n    __backend_agg_user_code_fn()\n\n    #reset display function\n    display = __backend_agg_display_orig\n\n    if len(__backend_agg_dfs) > 0:\n        # create a temp view\n        if type(__backend_agg_dfs[0]).__module__ == \"databricks.koalas.frame\":\n            # koalas dataframe\n            __backend_agg_dfs[0].to_spark().createOrReplaceTempView(\"DatabricksViewaef30b5\")\n        elif type(__backend_agg_dfs[0]).__module__ == \"pandas.core.frame\" or isinstance(__backend_agg_dfs[0], list):\n            # pandas dataframe\n            spark.createDataFrame(__backend_agg_dfs[0]).createOrReplaceTempView(\"DatabricksViewaef30b5\")\n        else:\n            __backend_agg_dfs[0].createOrReplaceTempView(\"DatabricksViewaef30b5\")\n        #run backend agg\n        display(spark.sql(\"\"\"WITH q AS (select * from DatabricksViewaef30b5) SELECT `medal_type`,SUM(`count`) `column_97ba874897` FROM q GROUP BY `medal_type`\"\"\"))\n    else:\n        displayHTML(\"dataframe no longer exists. If you're using dataframe.display(), use display(dataframe) instead.\")\n\n\nfinally:\n    spark.sql(\"drop view if exists DatabricksViewaef30b5\")\n    display = __backend_agg_display_orig\n    del __backend_agg_display_new\n    del __backend_agg_display_orig\n    del __backend_agg_dfs\n    del __backend_agg_user_code_fn\n\n",
       "commandTitle": "Visualization 1",
       "commandType": "auto",
       "commandVersion": 0,
       "commentThread": [],
       "commentsVisible": false,
       "contentSha256Hex": null,
       "customPlotOptions": {
        "redashChart": [
         {
          "key": "type",
          "value": "CHART"
         },
         {
          "key": "options",
          "value": {
           "alignYAxesAtZero": true,
           "coefficient": 1,
           "columnConfigurationMap": {
            "x": {
             "column": "medal_type",
             "id": "column_97ba874896"
            },
            "y": [
             {
              "column": "count",
              "id": "column_97ba874897",
              "transform": "SUM"
             }
            ]
           },
           "dateTimeFormat": "DD/MM/YYYY HH:mm",
           "direction": {
            "type": "counterclockwise"
           },
           "error_y": {
            "type": "data",
            "visible": true
           },
           "globalSeriesType": "pie",
           "isAggregationOn": true,
           "legend": {
            "traceorder": "normal"
           },
           "missingValuesAsZero": true,
           "numberFormat": "0,0.[00000]",
           "percentFormat": "0[.]00%",
           "series": {
            "error_y": {
             "type": "data",
             "visible": true
            },
            "stacking": null
           },
           "seriesOptions": {
            "column_97ba874897": {
             "name": "count",
             "type": "pie",
             "yAxis": 0
            }
           },
           "showDataLabels": true,
           "sizemode": "diameter",
           "sortX": true,
           "sortY": true,
           "swappedAxes": false,
           "textFormat": "",
           "useAggregationsUi": true,
           "valuesOptions": {},
           "version": 2,
           "xAxis": {
            "labels": {
             "enabled": true
            },
            "type": "-"
           },
           "yAxis": [
            {
             "type": "-"
            },
            {
             "opposite": true,
             "type": "-"
            }
           ]
          }
         }
        ]
       },
       "datasetPreviewNameToCmdIdMap": {},
       "diffDeletes": [],
       "diffInserts": [],
       "displayType": "redashChart",
       "error": null,
       "errorDetails": null,
       "errorSummary": null,
       "errorTraceType": null,
       "finishTime": 0,
       "globalVars": {},
       "guid": "",
       "height": "auto",
       "hideCommandCode": false,
       "hideCommandResult": false,
       "iPythonMetadata": null,
       "inputWidgets": {},
       "isLockedInExamMode": false,
       "latestUser": "a user",
       "latestUserId": null,
       "listResultMetadata": null,
       "metadata": {},
       "nuid": "d9387d9a-25bd-4bdf-b287-51018c149167",
       "origId": 0,
       "parentHierarchy": [],
       "pivotAggregation": null,
       "pivotColumns": null,
       "position": 10.0,
       "resultDbfsErrorMessage": null,
       "resultDbfsStatus": "INLINED_IN_TREE",
       "results": null,
       "showCommandTitle": false,
       "startTime": 0,
       "state": "input",
       "streamStates": {},
       "subcommandOptions": {
        "queryPlan": {
         "groups": [
          {
           "column": "medal_type",
           "type": "column"
          }
         ],
         "selects": [
          {
           "column": "medal_type",
           "type": "column"
          },
          {
           "alias": "column_97ba874897",
           "args": [
            {
             "column": "count",
             "type": "column"
            }
           ],
           "function": "SUM",
           "type": "function"
          }
         ]
        }
       },
       "submitTime": 0,
       "subtype": "tableResultSubCmd.visualization",
       "tableResultIndex": 0,
       "tableResultSettingsMap": {},
       "useConsistentColors": false,
       "version": "CommandV1",
       "width": "auto",
       "workflows": [],
       "xColumns": null,
       "yColumns": null
      }
     },
     "output_type": "display_data"
    }
   ],
   "source": [
    "# Prepare India's medal data in long format\n",
    "india_medals_long = india_medals.selectExpr(\n",
    "    \"'Gold' as medal_type\", \"gold as count\"\n",
    ").union(\n",
    "    india_medals.selectExpr(\"'Silver' as medal_type\", \"silver as count\")\n",
    ").union(\n",
    "    india_medals.selectExpr(\"'Bronze' as medal_type\", \"bronze as count\")\n",
    ")\n",
    "\n",
    "# Display pie chart\n",
    "display(india_medals_long)\n",
    "\n"
   ]
  },
  {
   "cell_type": "code",
   "execution_count": 0,
   "metadata": {
    "application/vnd.databricks.v1+cell": {
     "cellMetadata": {},
     "inputWidgets": {},
     "nuid": "a29c39d2-c1a2-4294-b4b2-81bb4378130e",
     "showTitle": false,
     "tableResultSettingsMap": {},
     "title": ""
    }
   },
   "outputs": [],
   "source": []
  },
  {
   "cell_type": "code",
   "execution_count": 0,
   "metadata": {
    "application/vnd.databricks.v1+cell": {
     "cellMetadata": {},
     "inputWidgets": {},
     "nuid": "cce85de0-a5ae-43d9-986c-2283df20a61b",
     "showTitle": false,
     "tableResultSettingsMap": {},
     "title": ""
    }
   },
   "outputs": [],
   "source": []
  }
 ],
 "metadata": {
  "application/vnd.databricks.v1+notebook": {
   "computePreferences": null,
   "dashboards": [],
   "environmentMetadata": {
    "base_environment": "",
    "environment_version": "1"
   },
   "inputWidgetPreferences": null,
   "language": "python",
   "notebookMetadata": {
    "mostRecentlyExecutedCommandWithImplicitDF": {
     "commandId": 3203223618085320,
     "dataframes": [
      "_sqldf"
     ]
    },
    "pythonIndentUnit": 4
   },
   "notebookName": "gold_layer",
   "widgets": {}
  }
 },
 "nbformat": 4,
 "nbformat_minor": 0
}