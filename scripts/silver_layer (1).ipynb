{
 "cells": [
  {
   "cell_type": "markdown",
   "metadata": {
    "application/vnd.databricks.v1+cell": {
     "cellMetadata": {
      "byteLimit": 2048000,
      "rowLimit": 10000
     },
     "inputWidgets": {},
     "nuid": "7683091a-4099-4a3f-b059-d34d91f33912",
     "showTitle": false,
     "tableResultSettingsMap": {},
     "title": ""
    }
   },
   "source": [
    "# 🥈 Silver Layer - Cleaned and Enriched Data\n",
    "\n",
    "The **Silver Layer** applies data cleaning, standardization, enrichment, and minor business logic to the raw Bronze Layer tables. This layer ensures consistent, structured, and analytics-ready data.\n",
    "\n",
    "---\n"
   ]
  },
  {
   "cell_type": "markdown",
   "metadata": {
    "application/vnd.databricks.v1+cell": {
     "cellMetadata": {
      "byteLimit": 2048000,
      "rowLimit": 10000
     },
     "inputWidgets": {},
     "nuid": "ec86c860-acd8-4d9d-96d7-3afbbd153960",
     "showTitle": false,
     "tableResultSettingsMap": {},
     "title": ""
    }
   },
   "source": [
    "## Import Required Libraries"
   ]
  },
  {
   "cell_type": "code",
   "execution_count": 0,
   "metadata": {
    "application/vnd.databricks.v1+cell": {
     "cellMetadata": {
      "byteLimit": 2048000,
      "rowLimit": 10000
     },
     "inputWidgets": {},
     "nuid": "3eb36edd-0864-4cc9-a360-b60587bb0562",
     "showTitle": false,
     "tableResultSettingsMap": {},
     "title": ""
    }
   },
   "outputs": [],
   "source": [
    "from pyspark.sql.functions import *\n",
    "from pyspark.sql.types import *"
   ]
  },
  {
   "cell_type": "markdown",
   "metadata": {
    "application/vnd.databricks.v1+cell": {
     "cellMetadata": {
      "byteLimit": 2048000,
      "rowLimit": 10000
     },
     "inputWidgets": {},
     "nuid": "57db2006-d376-4d01-b43f-02dfb195218f",
     "showTitle": false,
     "tableResultSettingsMap": {},
     "title": ""
    }
   },
   "source": [
    "## Step 1: Create Silver Database"
   ]
  },
  {
   "cell_type": "code",
   "execution_count": 0,
   "metadata": {
    "application/vnd.databricks.v1+cell": {
     "cellMetadata": {
      "byteLimit": 2048000,
      "implicitDf": true,
      "rowLimit": 10000
     },
     "inputWidgets": {},
     "nuid": "92e36c1c-34a3-4a46-9345-37cd706a0c6d",
     "showTitle": false,
     "tableResultSettingsMap": {},
     "title": ""
    }
   },
   "outputs": [
    {
     "output_type": "display_data",
     "data": {
      "text/html": [
       "<style scoped>\n",
       "  .table-result-container {\n",
       "    max-height: 300px;\n",
       "    overflow: auto;\n",
       "  }\n",
       "  table, th, td {\n",
       "    border: 1px solid black;\n",
       "    border-collapse: collapse;\n",
       "  }\n",
       "  th, td {\n",
       "    padding: 5px;\n",
       "  }\n",
       "  th {\n",
       "    text-align: left;\n",
       "  }\n",
       "</style><div class='table-result-container'><table class='table-result'><thead style='background-color: white'><tr></tr></thead><tbody></tbody></table></div>"
      ]
     },
     "metadata": {
      "application/vnd.databricks.v1+output": {
       "addedWidgets": {},
       "aggData": [],
       "aggError": "",
       "aggOverflow": false,
       "aggSchema": [],
       "aggSeriesLimitReached": false,
       "aggType": "",
       "arguments": {},
       "columnCustomDisplayInfos": {},
       "data": [],
       "datasetInfos": [],
       "dbfsResultPath": null,
       "isJsonSchema": true,
       "metadata": {},
       "overflow": false,
       "plotOptions": {
        "customPlotOptions": {},
        "displayType": "table",
        "pivotAggregation": null,
        "pivotColumns": null,
        "xColumns": null,
        "yColumns": null
       },
       "removedWidgets": [],
       "schema": [],
       "type": "table"
      }
     },
     "output_type": "display_data"
    }
   ],
   "source": [
    "%sql\n",
    "CREATE DATABASE IF NOT EXISTS silver;"
   ]
  },
  {
   "cell_type": "markdown",
   "metadata": {
    "application/vnd.databricks.v1+cell": {
     "cellMetadata": {
      "byteLimit": 2048000,
      "rowLimit": 10000
     },
     "inputWidgets": {},
     "nuid": "0a27e1cb-1067-4017-8001-de482ac53a47",
     "showTitle": false,
     "tableResultSettingsMap": {},
     "title": ""
    }
   },
   "source": [
    "# Load Bronze Layer Tables"
   ]
  },
  {
   "cell_type": "code",
   "execution_count": 0,
   "metadata": {
    "application/vnd.databricks.v1+cell": {
     "cellMetadata": {
      "byteLimit": 2048000,
      "rowLimit": 10000
     },
     "inputWidgets": {},
     "nuid": "119e1f49-94f5-45ed-b707-5b1625fa453a",
     "showTitle": false,
     "tableResultSettingsMap": {},
     "title": ""
    }
   },
   "outputs": [],
   "source": [
    "df_athletes = spark.table(\"bronze.athletes\")\n",
    "df_coaches = spark.table(\"bronze.coaches\")\n",
    "df_entriesGender = spark.table(\"bronze.entriesGender\")\n",
    "df_medals = spark.table(\"bronze.medals\")\n",
    "df_teams = spark.table(\"bronze.teams\")"
   ]
  },
  {
   "cell_type": "markdown",
   "metadata": {
    "application/vnd.databricks.v1+cell": {
     "cellMetadata": {
      "byteLimit": 2048000,
      "rowLimit": 10000
     },
     "inputWidgets": {},
     "nuid": "0947dff7-33b3-4251-83f1-5a28f169a6cd",
     "showTitle": false,
     "tableResultSettingsMap": {},
     "title": ""
    }
   },
   "source": [
    "### Data Cleaning using PySpark\n",
    "\n",
    "#### 🔧 Utility Function: `clean_df`\n",
    "\n",
    "This function handles standard cleaning tasks for Spark DataFrames:\n",
    "\n",
    "- Drops duplicate records\n",
    "- Removes rows with nulls in critical columns\n",
    "- Fills missing values using a dictionary\n",
    "- Standardizes column names (lowercase, no spaces)"
   ]
  },
  {
   "cell_type": "code",
   "execution_count": 0,
   "metadata": {
    "application/vnd.databricks.v1+cell": {
     "cellMetadata": {
      "byteLimit": 2048000,
      "rowLimit": 10000
     },
     "inputWidgets": {},
     "nuid": "53381b2f-0840-40df-ad21-11790f012a17",
     "showTitle": false,
     "tableResultSettingsMap": {},
     "title": ""
    }
   },
   "outputs": [],
   "source": [
    "def clean_df(df, critical_columns=[], fill_na_dict={}):\n",
    "    # Drop duplicates\n",
    "    df = df.dropDuplicates()\n",
    "\n",
    "    # Drop rows with nulls in important columns\n",
    "    if critical_columns:\n",
    "        df = df.dropna(subset=critical_columns)\n",
    "\n",
    "    # Fill NA values\n",
    "    if fill_na_dict:\n",
    "        df = df.fillna(fill_na_dict)\n",
    "\n",
    "    # Standardize column names: remove spaces, make lowercase\n",
    "    for c in df.columns:\n",
    "        new_col = c.strip().lower().replace(\" \", \"_\")\n",
    "        df = df.withColumnRenamed(c, new_col)\n",
    "\n",
    "    return df\n"
   ]
  },
  {
   "cell_type": "markdown",
   "metadata": {
    "application/vnd.databricks.v1+cell": {
     "cellMetadata": {
      "byteLimit": 2048000,
      "rowLimit": 10000
     },
     "inputWidgets": {},
     "nuid": "e817e218-ac33-4dd0-9ad6-584b71db1002",
     "showTitle": false,
     "tableResultSettingsMap": {},
     "title": ""
    }
   },
   "source": [
    "####1. df_athletes"
   ]
  },
  {
   "cell_type": "code",
   "execution_count": 0,
   "metadata": {
    "application/vnd.databricks.v1+cell": {
     "cellMetadata": {
      "byteLimit": 2048000,
      "rowLimit": 10000
     },
     "inputWidgets": {},
     "nuid": "523d652f-1336-473a-bcaf-3962174933e8",
     "showTitle": false,
     "tableResultSettingsMap": {},
     "title": ""
    }
   },
   "outputs": [],
   "source": [
    "cleaned_df_athletes = clean_df(\n",
    "    df_athletes,\n",
    "    critical_columns=[\"PersonName\", \"Discipline\"],\n",
    "    fill_na_dict={\"PersonName\": \"n/a\", \"Country\": \"n/a\", \"Discipline\": \"n/a\"}\n",
    ")\n",
    "cleaned_df_athletes = cleaned_df_athletes.withColumnRenamed(\"personname\", \"person_name\")\n",
    "\n",
    "\n",
    "cleaned_df_athletes.write.format(\"delta\").mode(\"overwrite\").saveAsTable(\"silver.athletes\")"
   ]
  },
  {
   "cell_type": "markdown",
   "metadata": {
    "application/vnd.databricks.v1+cell": {
     "cellMetadata": {
      "byteLimit": 2048000,
      "rowLimit": 10000
     },
     "inputWidgets": {},
     "nuid": "80ec7837-dd57-4762-8db1-86667212ccac",
     "showTitle": false,
     "tableResultSettingsMap": {},
     "title": ""
    }
   },
   "source": [
    "####2. df_coaches"
   ]
  },
  {
   "cell_type": "code",
   "execution_count": 0,
   "metadata": {
    "application/vnd.databricks.v1+cell": {
     "cellMetadata": {
      "byteLimit": 2048000,
      "rowLimit": 10000
     },
     "inputWidgets": {},
     "nuid": "576ab977-f3ed-419b-8773-52567c9751a3",
     "showTitle": false,
     "tableResultSettingsMap": {},
     "title": ""
    }
   },
   "outputs": [],
   "source": [
    "cleaned_df_coaches = clean_df(\n",
    "    df_coaches,\n",
    "    critical_columns=[\"Name\", \"Discipline\"],\n",
    "    fill_na_dict={\"Name\": \"n/a\", \"Country\": \"n/a\", \"Discipline\": \"n/a\", \"Event\": \"n/a\"}\n",
    ")\n",
    "\n",
    "cleaned_df_coaches.write.format(\"delta\").mode(\"overwrite\").saveAsTable(\"silver.coaches\")"
   ]
  },
  {
   "cell_type": "markdown",
   "metadata": {
    "application/vnd.databricks.v1+cell": {
     "cellMetadata": {
      "byteLimit": 2048000,
      "rowLimit": 10000
     },
     "inputWidgets": {},
     "nuid": "29edda19-8642-4934-888f-ec59fdaed104",
     "showTitle": false,
     "tableResultSettingsMap": {},
     "title": ""
    }
   },
   "source": [
    "####3. df_entriesGender"
   ]
  },
  {
   "cell_type": "code",
   "execution_count": 0,
   "metadata": {
    "application/vnd.databricks.v1+cell": {
     "cellMetadata": {
      "byteLimit": 2048000,
      "rowLimit": 10000
     },
     "inputWidgets": {},
     "nuid": "84ec042f-866f-43f8-9c37-8a7222798f21",
     "showTitle": false,
     "tableResultSettingsMap": {},
     "title": ""
    }
   },
   "outputs": [
    {
     "output_type": "stream",
     "name": "stdout",
     "output_type": "stream",
     "text": [
      "+--------------------+------+----+-----+\n|          discipline|female|male|total|\n+--------------------+------+----+-----+\n|             Surfing|    20|  20|   40|\n| Artistic Gymnastics|    98|  98|  196|\n|           Wrestling|    96| 193|  289|\n|   Artistic Swimming|   105|   0|  105|\n|          Water Polo|   122| 146|  268|\n|      Sport Climbing|    20|  20|   40|\n|       Skateboarding|    40|  40|   80|\n|   Marathon Swimming|    25|  25|   50|\n|                Golf|    60|  60|  120|\n|                Judo|   192| 201|  393|\n|        Cycling Road|    70| 131|  201|\n|        Canoe Sprint|   123| 126|  249|\n|Cycling Mountain ...|    38|  38|   76|\n|           Athletics|   969|1072| 2041|\n|              Hockey|   192| 192|  384|\n|              Diving|    72|  71|  143|\n|            Swimming|   361| 418|  779|\n|            Football|   264| 344|  608|\n|  Cycling BMX Racing|    24|  24|   48|\n|           Taekwondo|    65|  65|  130|\n+--------------------+------+----+-----+\nonly showing top 20 rows\n\n"
     ]
    }
   ],
   "source": [
    "cleaned_df_entries_gender = clean_df(\n",
    "    df_entriesGender,\n",
    "    critical_columns=[\"Discipline\", \"Female\", \"Male\", \"Total\"],\n",
    "    fill_na_dict={\"Discipline\": \"n/a\", \"Female\": 0, \"Male\": 0, \"Total\": 0}\n",
    ")\n",
    "cleaned_df_entries_gender.show()\n",
    "\n",
    "cleaned_df_entries_gender.write.format(\"delta\").mode(\"overwrite\").saveAsTable(\"silver.entries_gender\")"
   ]
  },
  {
   "cell_type": "markdown",
   "metadata": {
    "application/vnd.databricks.v1+cell": {
     "cellMetadata": {
      "byteLimit": 2048000,
      "rowLimit": 10000
     },
     "inputWidgets": {},
     "nuid": "47efabff-ab25-406e-a8cb-c4b99c3e9f6c",
     "showTitle": false,
     "tableResultSettingsMap": {},
     "title": ""
    }
   },
   "source": [
    "####4. df_medals"
   ]
  },
  {
   "cell_type": "code",
   "execution_count": 0,
   "metadata": {
    "application/vnd.databricks.v1+cell": {
     "cellMetadata": {
      "byteLimit": 2048000,
      "rowLimit": 10000
     },
     "inputWidgets": {},
     "nuid": "7dc116c2-d05f-4d29-8a04-2ee8e6158bd0",
     "showTitle": false,
     "tableResultSettingsMap": {},
     "title": ""
    }
   },
   "outputs": [],
   "source": [
    "cleaned_df_medals = clean_df(\n",
    "    df_medals,\n",
    "    critical_columns=[\"TeamCountry\", \"Gold\", \"Silver\", \"Bronze\", \"Total\", \"Rank_by_Total\"],\n",
    "    fill_na_dict={\n",
    "        \"TeamCountry\": \"n/a\",\n",
    "        \"Gold\": 0, \"Silver\": 0, \"Bronze\": 0, \"Total\": 0,\n",
    "        \"Rank\": 0, \"Rank_by_Total\": 0\n",
    "    }\n",
    ")\n",
    "cleaned_df_medals = cleaned_df_medals.withColumnRenamed(\"teamcountry\", \"team_country\")\n",
    "\n",
    "cleaned_df_medals.write.format(\"delta\").mode(\"overwrite\").saveAsTable(\"silver.medals\")\n"
   ]
  },
  {
   "cell_type": "markdown",
   "metadata": {
    "application/vnd.databricks.v1+cell": {
     "cellMetadata": {
      "byteLimit": 2048000,
      "rowLimit": 10000
     },
     "inputWidgets": {},
     "nuid": "cd539691-94e1-47fd-8283-af6260fdb839",
     "showTitle": false,
     "tableResultSettingsMap": {},
     "title": ""
    }
   },
   "source": [
    "####5. df_teams"
   ]
  },
  {
   "cell_type": "code",
   "execution_count": 0,
   "metadata": {
    "application/vnd.databricks.v1+cell": {
     "cellMetadata": {
      "byteLimit": 2048000,
      "rowLimit": 10000
     },
     "inputWidgets": {},
     "nuid": "9735e599-0011-4f89-b880-8348d8287997",
     "showTitle": false,
     "tableResultSettingsMap": {},
     "title": ""
    }
   },
   "outputs": [],
   "source": [
    "cleaned_df_teams = clean_df(\n",
    "    df_teams,\n",
    "    critical_columns=[],\n",
    "    fill_na_dict={\"TeamName\": \"n/a\", \"Discipline\": \"n/a\", \"Country\": \"n/a\", \"Event\": \"n/a\"}\n",
    ")\n",
    "cleaned_df_teams = cleaned_df_teams.withColumnRenamed(\"teamname\", \"team_name\")\n",
    "\n",
    "cleaned_df_teams.write.format(\"delta\").mode(\"overwrite\").saveAsTable(\"silver.teams\")\n"
   ]
  },
  {
   "cell_type": "markdown",
   "metadata": {
    "application/vnd.databricks.v1+cell": {
     "cellMetadata": {
      "byteLimit": 2048000,
      "rowLimit": 10000
     },
     "inputWidgets": {},
     "nuid": "16855f6e-3c28-4e15-b08c-3822e9095b16",
     "showTitle": false,
     "tableResultSettingsMap": {},
     "title": ""
    }
   },
   "source": [
    "## ✅ Output\n",
    "\n",
    "All cleaned and transformed tables are saved as **Delta Tables** under the `silver` schema for use in the Gold Layer."
   ]
  }
 ],
 "metadata": {
  "application/vnd.databricks.v1+notebook": {
   "computePreferences": null,
   "dashboards": [],
   "environmentMetadata": {
    "base_environment": "",
    "environment_version": "1"
   },
   "inputWidgetPreferences": null,
   "language": "python",
   "notebookMetadata": {
    "mostRecentlyExecutedCommandWithImplicitDF": {
     "commandId": 3203223618085302,
     "dataframes": [
      "_sqldf"
     ]
    },
    "pythonIndentUnit": 4
   },
   "notebookName": "silver_layer",
   "widgets": {}
  }
 },
 "nbformat": 4,
 "nbformat_minor": 0
}